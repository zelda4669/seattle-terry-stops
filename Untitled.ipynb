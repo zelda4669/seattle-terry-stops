{
 "cells": [
  {
   "cell_type": "code",
   "execution_count": 1,
   "id": "d7772311",
   "metadata": {},
   "outputs": [],
   "source": [
    "import pandas as pd\n",
    "import numpy as np\n",
    "import matplotlib.pyplot as plt\n",
    "import seaborn as sns\n",
    "from sklearn.model_selection import train_test_split, GridSearchCV\n",
    "from sklearn.ensemble import RandomForestClassifier\n",
    "from functions import all_models as m\n",
    "from functions import metrics\n",
    "from imblearn.over_sampling import SMOTE\n",
    "from sklearn.metrics import precision_score, recall_score, accuracy_score, f1_score\n",
    "%matplotlib inline"
   ]
  },
  {
   "cell_type": "code",
   "execution_count": 2,
   "id": "3f881d77",
   "metadata": {},
   "outputs": [
    {
     "data": {
      "text/html": [
       "<div>\n",
       "<style scoped>\n",
       "    .dataframe tbody tr th:only-of-type {\n",
       "        vertical-align: middle;\n",
       "    }\n",
       "\n",
       "    .dataframe tbody tr th {\n",
       "        vertical-align: top;\n",
       "    }\n",
       "\n",
       "    .dataframe thead th {\n",
       "        text-align: right;\n",
       "    }\n",
       "</style>\n",
       "<table border=\"1\" class=\"dataframe\">\n",
       "  <thead>\n",
       "    <tr style=\"text-align: right;\">\n",
       "      <th></th>\n",
       "      <th>Subject Age Group</th>\n",
       "      <th>Subject ID</th>\n",
       "      <th>Stop Resolution</th>\n",
       "      <th>Weapon Type</th>\n",
       "      <th>Officer Gender</th>\n",
       "      <th>Officer Race</th>\n",
       "      <th>Subject Perceived Race</th>\n",
       "      <th>Subject Perceived Gender</th>\n",
       "      <th>Reported Date</th>\n",
       "      <th>Call Type</th>\n",
       "      <th>Arrest Flag</th>\n",
       "      <th>Frisk Flag</th>\n",
       "      <th>Precinct</th>\n",
       "      <th>Sector</th>\n",
       "      <th>Beat</th>\n",
       "      <th>Officer Age Group</th>\n",
       "      <th>Day of Week</th>\n",
       "      <th>Year</th>\n",
       "      <th>Month</th>\n",
       "    </tr>\n",
       "  </thead>\n",
       "  <tbody>\n",
       "    <tr>\n",
       "      <th>0</th>\n",
       "      <td>26 - 35</td>\n",
       "      <td>0</td>\n",
       "      <td>Field Contact</td>\n",
       "      <td>None</td>\n",
       "      <td>1</td>\n",
       "      <td>White</td>\n",
       "      <td>Asian</td>\n",
       "      <td>Male</td>\n",
       "      <td>2015-04-17</td>\n",
       "      <td>UNKNOWN</td>\n",
       "      <td>0</td>\n",
       "      <td>0</td>\n",
       "      <td>Unknown</td>\n",
       "      <td>-</td>\n",
       "      <td>-</td>\n",
       "      <td>Gen X</td>\n",
       "      <td>Friday</td>\n",
       "      <td>2015</td>\n",
       "      <td>April</td>\n",
       "    </tr>\n",
       "    <tr>\n",
       "      <th>1218</th>\n",
       "      <td>1 - 17</td>\n",
       "      <td>0</td>\n",
       "      <td>Field Contact</td>\n",
       "      <td>None</td>\n",
       "      <td>1</td>\n",
       "      <td>White</td>\n",
       "      <td>White</td>\n",
       "      <td>Female</td>\n",
       "      <td>2015-05-31</td>\n",
       "      <td>UNKNOWN</td>\n",
       "      <td>0</td>\n",
       "      <td>0</td>\n",
       "      <td>Unknown</td>\n",
       "      <td>-</td>\n",
       "      <td>-</td>\n",
       "      <td>Millenial</td>\n",
       "      <td>Sunday</td>\n",
       "      <td>2015</td>\n",
       "      <td>May</td>\n",
       "    </tr>\n",
       "    <tr>\n",
       "      <th>1598</th>\n",
       "      <td>1 - 17</td>\n",
       "      <td>0</td>\n",
       "      <td>Arrest</td>\n",
       "      <td>None</td>\n",
       "      <td>1</td>\n",
       "      <td>White</td>\n",
       "      <td>American Indian or Alaska Native</td>\n",
       "      <td>Male</td>\n",
       "      <td>2015-09-13</td>\n",
       "      <td>UNKNOWN</td>\n",
       "      <td>0</td>\n",
       "      <td>1</td>\n",
       "      <td>East</td>\n",
       "      <td>G</td>\n",
       "      <td>G1</td>\n",
       "      <td>Millenial</td>\n",
       "      <td>Sunday</td>\n",
       "      <td>2015</td>\n",
       "      <td>September</td>\n",
       "    </tr>\n",
       "    <tr>\n",
       "      <th>1599</th>\n",
       "      <td>1 - 17</td>\n",
       "      <td>0</td>\n",
       "      <td>Field Contact</td>\n",
       "      <td>None</td>\n",
       "      <td>0</td>\n",
       "      <td>Not Specified</td>\n",
       "      <td>Unknown</td>\n",
       "      <td>Male</td>\n",
       "      <td>2015-04-19</td>\n",
       "      <td>UNKNOWN</td>\n",
       "      <td>0</td>\n",
       "      <td>1</td>\n",
       "      <td>Unknown</td>\n",
       "      <td>-</td>\n",
       "      <td>-</td>\n",
       "      <td>Millenial</td>\n",
       "      <td>Sunday</td>\n",
       "      <td>2015</td>\n",
       "      <td>April</td>\n",
       "    </tr>\n",
       "    <tr>\n",
       "      <th>1602</th>\n",
       "      <td>1 - 17</td>\n",
       "      <td>0</td>\n",
       "      <td>Field Contact</td>\n",
       "      <td>None</td>\n",
       "      <td>1</td>\n",
       "      <td>White</td>\n",
       "      <td>White</td>\n",
       "      <td>Male</td>\n",
       "      <td>2015-04-20</td>\n",
       "      <td>UNKNOWN</td>\n",
       "      <td>0</td>\n",
       "      <td>0</td>\n",
       "      <td>Unknown</td>\n",
       "      <td>-</td>\n",
       "      <td>-</td>\n",
       "      <td>Millenial</td>\n",
       "      <td>Monday</td>\n",
       "      <td>2015</td>\n",
       "      <td>April</td>\n",
       "    </tr>\n",
       "  </tbody>\n",
       "</table>\n",
       "</div>"
      ],
      "text/plain": [
       "     Subject Age Group  Subject ID Stop Resolution Weapon Type  \\\n",
       "0              26 - 35           0   Field Contact        None   \n",
       "1218            1 - 17           0   Field Contact        None   \n",
       "1598            1 - 17           0          Arrest        None   \n",
       "1599            1 - 17           0   Field Contact        None   \n",
       "1602            1 - 17           0   Field Contact        None   \n",
       "\n",
       "      Officer Gender   Officer Race            Subject Perceived Race  \\\n",
       "0                  1          White                             Asian   \n",
       "1218               1          White                             White   \n",
       "1598               1          White  American Indian or Alaska Native   \n",
       "1599               0  Not Specified                           Unknown   \n",
       "1602               1          White                             White   \n",
       "\n",
       "     Subject Perceived Gender Reported Date Call Type  Arrest Flag  \\\n",
       "0                        Male    2015-04-17   UNKNOWN            0   \n",
       "1218                   Female    2015-05-31   UNKNOWN            0   \n",
       "1598                     Male    2015-09-13   UNKNOWN            0   \n",
       "1599                     Male    2015-04-19   UNKNOWN            0   \n",
       "1602                     Male    2015-04-20   UNKNOWN            0   \n",
       "\n",
       "      Frisk Flag Precinct  Sector    Beat Officer Age Group Day of Week  Year  \\\n",
       "0              0  Unknown       -       -             Gen X      Friday  2015   \n",
       "1218           0  Unknown       -       -         Millenial      Sunday  2015   \n",
       "1598           1     East  G       G1             Millenial      Sunday  2015   \n",
       "1599           1  Unknown       -       -         Millenial      Sunday  2015   \n",
       "1602           0  Unknown       -       -         Millenial      Monday  2015   \n",
       "\n",
       "          Month  \n",
       "0         April  \n",
       "1218        May  \n",
       "1598  September  \n",
       "1599      April  \n",
       "1602      April  "
      ]
     },
     "execution_count": 2,
     "metadata": {},
     "output_type": "execute_result"
    }
   ],
   "source": [
    "df=pd.read_csv('Cleaned Data.csv', index_col=0)\n",
    "df.head()"
   ]
  },
  {
   "cell_type": "code",
   "execution_count": 3,
   "id": "7408d8ba",
   "metadata": {},
   "outputs": [],
   "source": [
    "y = df['Stop Resolution']\n",
    "x=df.drop(columns=['Arrest Flag', 'Reported Date', 'Stop Resolution'])"
   ]
  },
  {
   "cell_type": "code",
   "execution_count": 4,
   "id": "d7c846c3",
   "metadata": {},
   "outputs": [],
   "source": [
    "x = pd.get_dummies(x, drop_first=True, columns=['Subject Age Group', 'Weapon Type', 'Officer Race', \n",
    "                                            'Subject Perceived Race', 'Subject Perceived Gender', 'Call Type', \n",
    "                                            'Precinct', 'Sector', 'Beat', 'Officer Age Group', 'Day of Week', 'Year', 'Month'])"
   ]
  },
  {
   "cell_type": "code",
   "execution_count": 5,
   "id": "6467266d",
   "metadata": {},
   "outputs": [],
   "source": [
    "x_train, x_test, y_train, y_test = train_test_split(x, y, random_state=16)"
   ]
  },
  {
   "cell_type": "code",
   "execution_count": 6,
   "id": "588584dc",
   "metadata": {},
   "outputs": [
    {
     "data": {
      "text/plain": [
       "RandomForestClassifier()"
      ]
     },
     "execution_count": 6,
     "metadata": {},
     "output_type": "execute_result"
    }
   ],
   "source": [
    "model_1 = RandomForestClassifier()\n",
    "model_1.fit(x_train, y_train)"
   ]
  },
  {
   "cell_type": "code",
   "execution_count": 7,
   "id": "ef3f05a3",
   "metadata": {},
   "outputs": [
    {
     "data": {
      "image/png": "[encoded data removed]",
      "text/plain": [
       "<Figure size 1080x432 with 4 Axes>"
      ]
     },
     "metadata": {
      "needs_background": "light"
     },
     "output_type": "display_data"
    },
    {
     "name": "stdout",
     "output_type": "stream",
     "text": [
      "                          precision    recall  f1-score   support\n",
      "\n",
      "                  Arrest       0.50      0.35      0.42      2970\n",
      "   Citation / Infraction       0.00      0.00      0.00        42\n",
      "           Field Contact       0.76      0.88      0.82      4594\n",
      "          Offense Report       0.63      0.68      0.65      3841\n",
      "Referred for Prosecution       0.73      0.13      0.22       183\n",
      "\n",
      "                accuracy                           0.67     11630\n",
      "               macro avg       0.52      0.41      0.42     11630\n",
      "            weighted avg       0.65      0.67      0.65     11630\n",
      "\n",
      "\n",
      "\n"
     ]
    }
   ],
   "source": [
    "metrics(model_1, x_train, y_train, x_test, y_test)"
   ]
  },
  {
   "cell_type": "code",
   "execution_count": 11,
   "id": "e37623e4",
   "metadata": {},
   "outputs": [
    {
     "name": "stdout",
     "output_type": "stream",
     "text": [
      "The model's precision score is 52.30%.\n",
      "The model's recall score is 40.93%.\n",
      "The model's accuracy score is 66.52%.\n",
      "The model's F1 score is 42.11%.\n"
     ]
    }
   ],
   "source": [
    "prediction = model_1.predict(x_test)\n",
    "print(f\"The model's precision score is {precision_score(y_test, prediction, average='macro'):.2%}.\")\n",
    "print(f\"The model's recall score is {recall_score(y_test, prediction, average='macro'):.2%}.\")\n",
    "print(f\"The model's accuracy score is {accuracy_score(y_test, prediction):.2%}.\")\n",
    "print(f\"The model's F1 score is {f1_score(y_test, prediction, average='macro'):.2%}.\")"
   ]
  },
  {
   "cell_type": "code",
   "execution_count": null,
   "id": "6735ade0",
   "metadata": {},
   "outputs": [],
   "source": []
  }
 ],
 "metadata": {
  "kernelspec": {
   "display_name": "Python 3",
   "language": "python",
   "name": "python3"
  },
  "language_info": {
   "codemirror_mode": {
    "name": "ipython",
    "version": 3
   },
   "file_extension": ".py",
   "mimetype": "text/x-python",
   "name": "python",
   "nbconvert_exporter": "python",
   "pygments_lexer": "ipython3",
   "version": "3.8.8"
  }
 },
 "nbformat": 4,
 "nbformat_minor": 5
}
