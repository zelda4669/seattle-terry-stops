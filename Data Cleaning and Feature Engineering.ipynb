{
 "cells": [
  {
   "cell_type": "markdown",
   "id": "58dc9fc2",
   "metadata": {},
   "source": [
    "# Data Cleaning and Feature Engineering"
   ]
  },
  {
   "cell_type": "code",
   "execution_count": 1,
   "id": "3e51480c",
   "metadata": {},
   "outputs": [
    {
     "data": {
      "text/html": [
       "<div>\n",
       "<style scoped>\n",
       "    .dataframe tbody tr th:only-of-type {\n",
       "        vertical-align: middle;\n",
       "    }\n",
       "\n",
       "    .dataframe tbody tr th {\n",
       "        vertical-align: top;\n",
       "    }\n",
       "\n",
       "    .dataframe thead th {\n",
       "        text-align: right;\n",
       "    }\n",
       "</style>\n",
       "<table border=\"1\" class=\"dataframe\">\n",
       "  <thead>\n",
       "    <tr style=\"text-align: right;\">\n",
       "      <th></th>\n",
       "      <th>Subject Age Group</th>\n",
       "      <th>Subject ID</th>\n",
       "      <th>GO / SC Num</th>\n",
       "      <th>Terry Stop ID</th>\n",
       "      <th>Stop Resolution</th>\n",
       "      <th>Weapon Type</th>\n",
       "      <th>Officer ID</th>\n",
       "      <th>Officer YOB</th>\n",
       "      <th>Officer Gender</th>\n",
       "      <th>Officer Race</th>\n",
       "      <th>...</th>\n",
       "      <th>Reported Time</th>\n",
       "      <th>Initial Call Type</th>\n",
       "      <th>Final Call Type</th>\n",
       "      <th>Call Type</th>\n",
       "      <th>Officer Squad</th>\n",
       "      <th>Arrest Flag</th>\n",
       "      <th>Frisk Flag</th>\n",
       "      <th>Precinct</th>\n",
       "      <th>Sector</th>\n",
       "      <th>Beat</th>\n",
       "    </tr>\n",
       "  </thead>\n",
       "  <tbody>\n",
       "    <tr>\n",
       "      <th>0</th>\n",
       "      <td>26 - 35</td>\n",
       "      <td>-1</td>\n",
       "      <td>20150000001920</td>\n",
       "      <td>36224</td>\n",
       "      <td>Field Contact</td>\n",
       "      <td>None</td>\n",
       "      <td>7595</td>\n",
       "      <td>1978</td>\n",
       "      <td>M</td>\n",
       "      <td>White</td>\n",
       "      <td>...</td>\n",
       "      <td>05:17:00</td>\n",
       "      <td>-</td>\n",
       "      <td>-</td>\n",
       "      <td>-</td>\n",
       "      <td>NaN</td>\n",
       "      <td>N</td>\n",
       "      <td>N</td>\n",
       "      <td>-</td>\n",
       "      <td>-</td>\n",
       "      <td>-</td>\n",
       "    </tr>\n",
       "    <tr>\n",
       "      <th>1</th>\n",
       "      <td>-</td>\n",
       "      <td>-1</td>\n",
       "      <td>20140000120677</td>\n",
       "      <td>92317</td>\n",
       "      <td>Arrest</td>\n",
       "      <td>None</td>\n",
       "      <td>7500</td>\n",
       "      <td>1984</td>\n",
       "      <td>M</td>\n",
       "      <td>Black or African American</td>\n",
       "      <td>...</td>\n",
       "      <td>11:32:00</td>\n",
       "      <td>-</td>\n",
       "      <td>-</td>\n",
       "      <td>-</td>\n",
       "      <td>SOUTH PCT 1ST W - ROBERT</td>\n",
       "      <td>N</td>\n",
       "      <td>N</td>\n",
       "      <td>South</td>\n",
       "      <td>O</td>\n",
       "      <td>O2</td>\n",
       "    </tr>\n",
       "    <tr>\n",
       "      <th>2</th>\n",
       "      <td>-</td>\n",
       "      <td>-1</td>\n",
       "      <td>20150000001463</td>\n",
       "      <td>28806</td>\n",
       "      <td>Field Contact</td>\n",
       "      <td>None</td>\n",
       "      <td>5670</td>\n",
       "      <td>1965</td>\n",
       "      <td>M</td>\n",
       "      <td>White</td>\n",
       "      <td>...</td>\n",
       "      <td>07:59:00</td>\n",
       "      <td>-</td>\n",
       "      <td>-</td>\n",
       "      <td>-</td>\n",
       "      <td>NaN</td>\n",
       "      <td>N</td>\n",
       "      <td>N</td>\n",
       "      <td>-</td>\n",
       "      <td>-</td>\n",
       "      <td>-</td>\n",
       "    </tr>\n",
       "    <tr>\n",
       "      <th>3</th>\n",
       "      <td>-</td>\n",
       "      <td>-1</td>\n",
       "      <td>20150000001516</td>\n",
       "      <td>29599</td>\n",
       "      <td>Field Contact</td>\n",
       "      <td>None</td>\n",
       "      <td>4844</td>\n",
       "      <td>1961</td>\n",
       "      <td>M</td>\n",
       "      <td>White</td>\n",
       "      <td>...</td>\n",
       "      <td>19:12:00</td>\n",
       "      <td>-</td>\n",
       "      <td>-</td>\n",
       "      <td>-</td>\n",
       "      <td>NaN</td>\n",
       "      <td>N</td>\n",
       "      <td>-</td>\n",
       "      <td>-</td>\n",
       "      <td>-</td>\n",
       "      <td>-</td>\n",
       "    </tr>\n",
       "    <tr>\n",
       "      <th>4</th>\n",
       "      <td>-</td>\n",
       "      <td>-1</td>\n",
       "      <td>20150000001670</td>\n",
       "      <td>32260</td>\n",
       "      <td>Field Contact</td>\n",
       "      <td>None</td>\n",
       "      <td>7539</td>\n",
       "      <td>1963</td>\n",
       "      <td>M</td>\n",
       "      <td>White</td>\n",
       "      <td>...</td>\n",
       "      <td>04:55:00</td>\n",
       "      <td>-</td>\n",
       "      <td>-</td>\n",
       "      <td>-</td>\n",
       "      <td>NaN</td>\n",
       "      <td>N</td>\n",
       "      <td>N</td>\n",
       "      <td>-</td>\n",
       "      <td>-</td>\n",
       "      <td>-</td>\n",
       "    </tr>\n",
       "  </tbody>\n",
       "</table>\n",
       "<p>5 rows × 23 columns</p>\n",
       "</div>"
      ],
      "text/plain": [
       "  Subject Age Group  Subject ID     GO / SC Num  Terry Stop ID  \\\n",
       "0           26 - 35          -1  20150000001920          36224   \n",
       "1                 -          -1  20140000120677          92317   \n",
       "2                 -          -1  20150000001463          28806   \n",
       "3                 -          -1  20150000001516          29599   \n",
       "4                 -          -1  20150000001670          32260   \n",
       "\n",
       "  Stop Resolution Weapon Type Officer ID  Officer YOB Officer Gender  \\\n",
       "0   Field Contact        None     7595           1978              M   \n",
       "1          Arrest        None     7500           1984              M   \n",
       "2   Field Contact        None     5670           1965              M   \n",
       "3   Field Contact        None     4844           1961              M   \n",
       "4   Field Contact        None     7539           1963              M   \n",
       "\n",
       "                Officer Race  ... Reported Time Initial Call Type  \\\n",
       "0                      White  ...      05:17:00                 -   \n",
       "1  Black or African American  ...      11:32:00                 -   \n",
       "2                      White  ...      07:59:00                 -   \n",
       "3                      White  ...      19:12:00                 -   \n",
       "4                      White  ...      04:55:00                 -   \n",
       "\n",
       "  Final Call Type Call Type             Officer Squad Arrest Flag Frisk Flag  \\\n",
       "0               -         -                       NaN           N          N   \n",
       "1               -         -  SOUTH PCT 1ST W - ROBERT           N          N   \n",
       "2               -         -                       NaN           N          N   \n",
       "3               -         -                       NaN           N          -   \n",
       "4               -         -                       NaN           N          N   \n",
       "\n",
       "  Precinct  Sector    Beat  \n",
       "0        -       -       -  \n",
       "1    South  O       O2      \n",
       "2        -       -       -  \n",
       "3        -       -       -  \n",
       "4        -       -       -  \n",
       "\n",
       "[5 rows x 23 columns]"
      ]
     },
     "execution_count": 1,
     "metadata": {},
     "output_type": "execute_result"
    }
   ],
   "source": [
    "import pandas as pd\n",
    "\n",
    "df=pd.read_csv('Terry_Stops.csv')\n",
    "df.head()"
   ]
  },
  {
   "cell_type": "code",
   "execution_count": 2,
   "id": "48e92378",
   "metadata": {},
   "outputs": [
    {
     "name": "stdout",
     "output_type": "stream",
     "text": [
      "<class 'pandas.core.frame.DataFrame'>\n",
      "RangeIndex: 48508 entries, 0 to 48507\n",
      "Data columns (total 23 columns):\n",
      " #   Column                    Non-Null Count  Dtype \n",
      "---  ------                    --------------  ----- \n",
      " 0   Subject Age Group         48508 non-null  object\n",
      " 1   Subject ID                48508 non-null  int64 \n",
      " 2   GO / SC Num               48508 non-null  int64 \n",
      " 3   Terry Stop ID             48508 non-null  int64 \n",
      " 4   Stop Resolution           48508 non-null  object\n",
      " 5   Weapon Type               48508 non-null  object\n",
      " 6   Officer ID                48508 non-null  object\n",
      " 7   Officer YOB               48508 non-null  int64 \n",
      " 8   Officer Gender            48508 non-null  object\n",
      " 9   Officer Race              48508 non-null  object\n",
      " 10  Subject Perceived Race    48508 non-null  object\n",
      " 11  Subject Perceived Gender  48508 non-null  object\n",
      " 12  Reported Date             48508 non-null  object\n",
      " 13  Reported Time             48508 non-null  object\n",
      " 14  Initial Call Type         48508 non-null  object\n",
      " 15  Final Call Type           48508 non-null  object\n",
      " 16  Call Type                 48508 non-null  object\n",
      " 17  Officer Squad             47902 non-null  object\n",
      " 18  Arrest Flag               48508 non-null  object\n",
      " 19  Frisk Flag                48508 non-null  object\n",
      " 20  Precinct                  48508 non-null  object\n",
      " 21  Sector                    48508 non-null  object\n",
      " 22  Beat                      48508 non-null  object\n",
      "dtypes: int64(4), object(19)\n",
      "memory usage: 8.5+ MB\n"
     ]
    }
   ],
   "source": [
    "df.info()"
   ]
  },
  {
   "cell_type": "markdown",
   "id": "af0ab43b",
   "metadata": {},
   "source": [
    "This data doesn't have any apparent null values (except the 'Officer Squad' column) but just by looking at the first five rows, it is apparent that this dataset is using '-' to represent null values. Because of this, it is necessary to investigate value counts for each column individually."
   ]
  },
  {
   "cell_type": "code",
   "execution_count": 3,
   "id": "baf80847",
   "metadata": {},
   "outputs": [],
   "source": [
    "#First drop ID columns that are not useful for prediction\n",
    "df.drop(columns=['GO / SC Num', 'Terry Stop ID'], inplace=True)"
   ]
  },
  {
   "cell_type": "markdown",
   "id": "2cb5ee80",
   "metadata": {},
   "source": [
    "#### Subject Age Group"
   ]
  },
  {
   "cell_type": "markdown",
   "id": "352d19bc",
   "metadata": {},
   "source": [
    "Subjects are binned into perceived age groups. Because of the small number of null values, I will remove these rows from the dataset."
   ]
  },
  {
   "cell_type": "code",
   "execution_count": 4,
   "id": "cbad8141",
   "metadata": {},
   "outputs": [
    {
     "data": {
      "text/plain": [
       "26 - 35         16165\n",
       "36 - 45         10342\n",
       "18 - 25          9672\n",
       "46 - 55          6275\n",
       "56 and Above     2468\n",
       "1 - 17           1990\n",
       "-                1596\n",
       "Name: Subject Age Group, dtype: int64"
      ]
     },
     "execution_count": 4,
     "metadata": {},
     "output_type": "execute_result"
    }
   ],
   "source": [
    "df['Subject Age Group'].value_counts()"
   ]
  },
  {
   "cell_type": "code",
   "execution_count": 5,
   "id": "ce944b50",
   "metadata": {},
   "outputs": [],
   "source": [
    "df = df[df['Subject Age Group'] != '-']"
   ]
  },
  {
   "cell_type": "markdown",
   "id": "cdba02f5",
   "metadata": {},
   "source": [
    "#### Subject ID"
   ]
  },
  {
   "cell_type": "markdown",
   "id": "2df507c8",
   "metadata": {},
   "source": [
    "This column indicates whether or not the subject presented identification to the officer. If ID was presented, the subject is identified according to their ID number in the police database. If ID is not presented, this value is recorded as -1. For simplicity, I will convert this column to boolean--True (1) indicating that the subject presented identification, and False (0) meaning they did not."
   ]
  },
  {
   "cell_type": "code",
   "execution_count": 6,
   "id": "03b9dae3",
   "metadata": {},
   "outputs": [
    {
     "data": {
      "text/plain": [
       "-1              33511\n",
       " 7753260438        21\n",
       " 15595726686       19\n",
       " 8753759694        14\n",
       " 7731717691        13\n",
       "                ...  \n",
       " 17610425747        1\n",
       " 7733982605         1\n",
       " 25803761039        1\n",
       " 7729407367         1\n",
       " 19740561406        1\n",
       "Name: Subject ID, Length: 9644, dtype: int64"
      ]
     },
     "execution_count": 6,
     "metadata": {},
     "output_type": "execute_result"
    }
   ],
   "source": [
    "df['Subject ID'].value_counts()"
   ]
  },
  {
   "cell_type": "code",
   "execution_count": 7,
   "id": "ce732af2",
   "metadata": {},
   "outputs": [],
   "source": [
    "df.loc[df['Subject ID'] > 0, 'Subject ID'] = 1"
   ]
  },
  {
   "cell_type": "code",
   "execution_count": 8,
   "id": "bc5dd573",
   "metadata": {},
   "outputs": [],
   "source": [
    "df.loc[df['Subject ID'] < 0, 'Subject ID'] = 0"
   ]
  },
  {
   "cell_type": "markdown",
   "id": "4e5d485a",
   "metadata": {},
   "source": [
    "#### Weapon Type"
   ]
  },
  {
   "cell_type": "markdown",
   "id": "fc3f8689",
   "metadata": {},
   "source": [
    "This column has several repeated categories -- I will attempt to group all like items together to decrease noise in the model."
   ]
  },
  {
   "cell_type": "code",
   "execution_count": 9,
   "id": "5d8e2bde",
   "metadata": {},
   "outputs": [
    {
     "data": {
      "text/plain": [
       "None                                    31601\n",
       "-                                       12476\n",
       "Lethal Cutting Instrument                1456\n",
       "Knife/Cutting/Stabbing Instrument         694\n",
       "Handgun                                   287\n",
       "Firearm Other                              93\n",
       "Blunt Object/Striking Implement            91\n",
       "Club, Blackjack, Brass Knuckles            48\n",
       "Firearm                                    44\n",
       "Mace/Pepper Spray                          31\n",
       "Other Firearm                              26\n",
       "Firearm (unk type)                         15\n",
       "Taser/Stun Gun                             10\n",
       "None/Not Applicable                         9\n",
       "Club                                        9\n",
       "Fire/Incendiary Device                      7\n",
       "Rifle                                       6\n",
       "Shotgun                                     3\n",
       "Automatic Handgun                           2\n",
       "Personal Weapons (hands, feet, etc.)        2\n",
       "Blackjack                                   1\n",
       "Brass Knuckles                              1\n",
       "Name: Weapon Type, dtype: int64"
      ]
     },
     "execution_count": 9,
     "metadata": {},
     "output_type": "execute_result"
    }
   ],
   "source": [
    "df['Weapon Type'].value_counts()"
   ]
  },
  {
   "cell_type": "code",
   "execution_count": 10,
   "id": "5548e136",
   "metadata": {},
   "outputs": [],
   "source": [
    "df['Weapon Type'].replace('-', 'None', inplace=True)\n",
    "df['Weapon Type'].replace('None/Not Applicable', 'None', inplace=True)\n",
    "df['Weapon Type'].replace('Firearm', 'Firearm Other', inplace=True)\n",
    "df['Weapon Type'].replace('Other Firearm', 'Firearm Other', inplace=True)\n",
    "df['Weapon Type'].replace('Firearm (unk type)', 'Firearm Other', inplace=True)\n",
    "df['Weapon Type'].replace('Brass Knuckles', 'Club, Blackjack, Brass Knuckles', inplace=True)\n",
    "df['Weapon Type'].replace('Blackjack', 'Club, Blackjack, Brass Knuckles', inplace=True)\n",
    "df['Weapon Type'].replace('Club', 'Club, Blackjack, Brass Knuckles', inplace=True)\n",
    "df['Weapon Type'].replace('Automatic Handgun', 'Handgun', inplace=True)"
   ]
  },
  {
   "cell_type": "code",
   "execution_count": 11,
   "id": "ac058ce5",
   "metadata": {},
   "outputs": [
    {
     "data": {
      "text/plain": [
       "None                                    44086\n",
       "Lethal Cutting Instrument                1456\n",
       "Knife/Cutting/Stabbing Instrument         694\n",
       "Handgun                                   289\n",
       "Firearm Other                             178\n",
       "Blunt Object/Striking Implement            91\n",
       "Club, Blackjack, Brass Knuckles            59\n",
       "Mace/Pepper Spray                          31\n",
       "Taser/Stun Gun                             10\n",
       "Fire/Incendiary Device                      7\n",
       "Rifle                                       6\n",
       "Shotgun                                     3\n",
       "Personal Weapons (hands, feet, etc.)        2\n",
       "Name: Weapon Type, dtype: int64"
      ]
     },
     "execution_count": 11,
     "metadata": {},
     "output_type": "execute_result"
    }
   ],
   "source": [
    "df['Weapon Type'].value_counts()"
   ]
  },
  {
   "cell_type": "markdown",
   "id": "f5351ee4",
   "metadata": {},
   "source": [
    "Weapon categories have been reduced. Because the categories are so unbalanced, I may try to reduce these categories further in the future, depending on the significance for the model."
   ]
  },
  {
   "cell_type": "markdown",
   "id": "0e932c96",
   "metadata": {},
   "source": [
    "#### Officer YOB"
   ]
  },
  {
   "cell_type": "markdown",
   "id": "c1c632d4",
   "metadata": {},
   "source": [
    "I chose to bin the data based on generation to simplify categorization."
   ]
  },
  {
   "cell_type": "code",
   "execution_count": 12,
   "id": "116539ed",
   "metadata": {},
   "outputs": [
    {
     "data": {
      "text/plain": [
       "1986    3280\n",
       "1987    2969\n",
       "1984    2703\n",
       "1991    2671\n",
       "1992    2456\n",
       "1985    2445\n",
       "1990    2295\n",
       "1988    2135\n",
       "1989    2026\n",
       "1982    1837\n",
       "1983    1685\n",
       "1979    1498\n",
       "1993    1498\n",
       "1981    1417\n",
       "1995    1272\n",
       "1971    1184\n",
       "1978    1145\n",
       "1976    1007\n",
       "1977     998\n",
       "1994     920\n",
       "1973     906\n",
       "1980     814\n",
       "1996     706\n",
       "1967     705\n",
       "1968     590\n",
       "1970     564\n",
       "1969     549\n",
       "1974     535\n",
       "1975     523\n",
       "1997     472\n",
       "1962     449\n",
       "1964     432\n",
       "1972     414\n",
       "1965     412\n",
       "1963     236\n",
       "1958     215\n",
       "1961     206\n",
       "1966     180\n",
       "1959     167\n",
       "1960     128\n",
       "1998      57\n",
       "1954      44\n",
       "1957      43\n",
       "1953      33\n",
       "1900      31\n",
       "1955      21\n",
       "1956      17\n",
       "1948      10\n",
       "1949       5\n",
       "1952       4\n",
       "1946       2\n",
       "1951       1\n",
       "Name: Officer YOB, dtype: int64"
      ]
     },
     "execution_count": 12,
     "metadata": {},
     "output_type": "execute_result"
    }
   ],
   "source": [
    "df['Officer YOB'].value_counts()"
   ]
  },
  {
   "cell_type": "code",
   "execution_count": 13,
   "id": "fc6491ce",
   "metadata": {},
   "outputs": [],
   "source": [
    "df['Officer Age Group'] = pd.cut(df['Officer YOB'],[1899, 1945, 1964, 1980, 1997, 2000], labels = ['Pre-Boomer','Baby Boomer', 'Gen X', 'Millenial', 'Gen Z'])"
   ]
  },
  {
   "cell_type": "code",
   "execution_count": 14,
   "id": "bfbbbfe1",
   "metadata": {},
   "outputs": [
    {
     "data": {
      "text/plain": [
       "Millenial      32787\n",
       "Gen X          12024\n",
       "Baby Boomer     2013\n",
       "Gen Z             57\n",
       "Pre-Boomer        31\n",
       "Name: Officer Age Group, dtype: int64"
      ]
     },
     "execution_count": 14,
     "metadata": {},
     "output_type": "execute_result"
    }
   ],
   "source": [
    "df['Officer Age Group'].value_counts()"
   ]
  },
  {
   "cell_type": "markdown",
   "id": "ec136597",
   "metadata": {},
   "source": [
    "#### Officer Race, Subject Perceived Race, and Subject Perceived Gender"
   ]
  },
  {
   "cell_type": "markdown",
   "id": "4a95bcc6",
   "metadata": {},
   "source": [
    "Each of these features are using multiple responses to classify unknown or not reported data. For each feature, I have condensed categories to use a single category for unknown values."
   ]
  },
  {
   "cell_type": "code",
   "execution_count": 15,
   "id": "6c6fa321",
   "metadata": {
    "scrolled": true
   },
   "outputs": [
    {
     "data": {
      "text/plain": [
       "White                            35429\n",
       "Two or More Races                 2715\n",
       "Hispanic or Latino                2701\n",
       "Asian                             2020\n",
       "Black or African American         1803\n",
       "Not Specified                     1460\n",
       "Nat Hawaiian/Oth Pac Islander      440\n",
       "American Indian/Alaska Native      313\n",
       "Unknown                             31\n",
       "Name: Officer Race, dtype: int64"
      ]
     },
     "execution_count": 15,
     "metadata": {},
     "output_type": "execute_result"
    }
   ],
   "source": [
    "df['Officer Race'].value_counts()"
   ]
  },
  {
   "cell_type": "code",
   "execution_count": 16,
   "id": "a2345572",
   "metadata": {},
   "outputs": [],
   "source": [
    "df['Officer Race'].replace('Unknown', 'Not Specified', inplace=True)"
   ]
  },
  {
   "cell_type": "code",
   "execution_count": 17,
   "id": "02603157",
   "metadata": {},
   "outputs": [
    {
     "data": {
      "text/plain": [
       "White                                        23273\n",
       "Black or African American                    14062\n",
       "Unknown                                       2506\n",
       "Hispanic                                      1659\n",
       "Asian                                         1558\n",
       "-                                             1471\n",
       "American Indian or Alaska Native              1365\n",
       "Multi-Racial                                   801\n",
       "Other                                          150\n",
       "Native Hawaiian or Other Pacific Islander       67\n",
       "Name: Subject Perceived Race, dtype: int64"
      ]
     },
     "execution_count": 17,
     "metadata": {},
     "output_type": "execute_result"
    }
   ],
   "source": [
    "df['Subject Perceived Race'].value_counts()"
   ]
  },
  {
   "cell_type": "code",
   "execution_count": 18,
   "id": "03a4573e",
   "metadata": {},
   "outputs": [],
   "source": [
    "df['Subject Perceived Race'].replace('-', 'Unknown', inplace=True)"
   ]
  },
  {
   "cell_type": "code",
   "execution_count": 19,
   "id": "9a936aa3",
   "metadata": {},
   "outputs": [
    {
     "data": {
      "text/plain": [
       "Male                                                         37210\n",
       "Female                                                        9553\n",
       "Unable to Determine                                            108\n",
       "Unknown                                                         19\n",
       "-                                                               16\n",
       "Gender Diverse (gender non-conforming and/or transgender)        6\n",
       "Name: Subject Perceived Gender, dtype: int64"
      ]
     },
     "execution_count": 19,
     "metadata": {},
     "output_type": "execute_result"
    }
   ],
   "source": [
    "df['Subject Perceived Gender'].value_counts()"
   ]
  },
  {
   "cell_type": "code",
   "execution_count": 20,
   "id": "68f7bd89",
   "metadata": {},
   "outputs": [],
   "source": [
    "df['Subject Perceived Gender'].replace('-', 'Unknown', inplace=True)"
   ]
  },
  {
   "cell_type": "markdown",
   "id": "f24dcf16",
   "metadata": {},
   "source": [
    "#### Reported Date"
   ]
  },
  {
   "cell_type": "markdown",
   "id": "61e4e696",
   "metadata": {},
   "source": [
    "Using this column I engineer several features -- year, day of the week, and month -- to help track trends over time."
   ]
  },
  {
   "cell_type": "code",
   "execution_count": 21,
   "id": "2a4cd28b",
   "metadata": {},
   "outputs": [],
   "source": [
    "#convert column to datetime to allow date-based calculations\n",
    "df['Reported Date'] = pd.to_datetime(df['Reported Date'])"
   ]
  },
  {
   "cell_type": "code",
   "execution_count": 22,
   "id": "822891cf",
   "metadata": {},
   "outputs": [],
   "source": [
    "#create day of week column and map numeric values to day names\n",
    "day_map={0: 'Monday', 1: 'Tuesday', 2: 'Wednesday', 3: 'Thursday', 4: 'Friday',5: 'Saturday', 6: 'Sunday'} \n",
    "df['Day of Week']=df['Reported Date'].dt.weekday.map(day_map)\n",
    "\n",
    "#create year column\n",
    "df['Year'] = df['Reported Date'].dt.year\n",
    "\n",
    "#create month column and map numeric values to month names\n",
    "month_map = {1: 'January', 2: 'February', 3: 'March', 4: 'April', 5: 'May', 6: 'June', \n",
    "             7: 'July', 8: 'August', 9: 'September', 10: 'October', 11: 'November', 12: 'December'}\n",
    "df['Month'] = df['Reported Date'].dt.month.map(month_map)"
   ]
  },
  {
   "cell_type": "markdown",
   "id": "9cef4b67",
   "metadata": {},
   "source": [
    "#### Reported Time"
   ]
  },
  {
   "cell_type": "markdown",
   "id": "725b0c18",
   "metadata": {},
   "source": [
    "The time that the incident report was filed, not the time of the stop. This column will be dropped."
   ]
  },
  {
   "cell_type": "code",
   "execution_count": 23,
   "id": "c5f736c4",
   "metadata": {},
   "outputs": [],
   "source": [
    "df.drop(columns=['Reported Time'], inplace=True)"
   ]
  },
  {
   "cell_type": "markdown",
   "id": "fb55a668",
   "metadata": {},
   "source": [
    "#### Initial Call Type, Final Call Type, Call Type"
   ]
  },
  {
   "cell_type": "markdown",
   "id": "4c2bb822",
   "metadata": {},
   "source": [
    "Initial Call Type and Final Call Type have lots of unique values, so they will be dropped. "
   ]
  },
  {
   "cell_type": "code",
   "execution_count": 24,
   "id": "3782ecbc",
   "metadata": {},
   "outputs": [
    {
     "data": {
      "text/plain": [
       "-                                                 12773\n",
       "SUSPICIOUS STOP - OFFICER INITIATED ONVIEW         3160\n",
       "SUSPICIOUS PERSON, VEHICLE OR INCIDENT             3010\n",
       "DISTURBANCE, MISCELLANEOUS/OTHER                   2420\n",
       "ASLT - IP/JO - WITH OR W/O WPNS (NO SHOOTINGS)     2035\n",
       "                                                  ...  \n",
       "PROPERTY - DAMAGE (GUN RELATED)                       1\n",
       "MISSING - (ALZHEIMER, ENDANGERED, ELDERLY)            1\n",
       "SICK PERSON                                           1\n",
       "HARBOR - WATER EMERGENCIES                            1\n",
       "WARRANT PICKUP - FROM OTHER AGENCY                    1\n",
       "Name: Initial Call Type, Length: 167, dtype: int64"
      ]
     },
     "execution_count": 24,
     "metadata": {},
     "output_type": "execute_result"
    }
   ],
   "source": [
    "df['Initial Call Type'].value_counts()"
   ]
  },
  {
   "cell_type": "code",
   "execution_count": 25,
   "id": "c2c4102d",
   "metadata": {},
   "outputs": [
    {
     "data": {
      "text/plain": [
       "-                                                     12773\n",
       "--SUSPICIOUS CIRCUM. - SUSPICIOUS PERSON               3766\n",
       "--PROWLER - TRESPASS                                   3333\n",
       "--DISTURBANCE - OTHER                                  2694\n",
       "--ASSAULTS, OTHER                                      2316\n",
       "                                                      ...  \n",
       "ORDER - VIOLATING DV COURT ORDER                          1\n",
       "BIAS -IP/JO - RACIAL, POLITICAL, SEXUAL MOTIVATION        1\n",
       "ESCAPE - PRISONER                                         1\n",
       "PROWLER                                                   1\n",
       "THEFT OF SERVICES                                         1\n",
       "Name: Final Call Type, Length: 208, dtype: int64"
      ]
     },
     "execution_count": 25,
     "metadata": {},
     "output_type": "execute_result"
    }
   ],
   "source": [
    "df['Final Call Type'].value_counts()"
   ]
  },
  {
   "cell_type": "code",
   "execution_count": 26,
   "id": "6af30672",
   "metadata": {},
   "outputs": [
    {
     "data": {
      "text/plain": [
       "911                              21400\n",
       "-                                12773\n",
       "ONVIEW                            9072\n",
       "TELEPHONE OTHER, NOT 911          3311\n",
       "ALARM CALL (NOT POLICE ALARM)      346\n",
       "TEXT MESSAGE                         9\n",
       "SCHEDULED EVENT (RECURRING)          1\n",
       "Name: Call Type, dtype: int64"
      ]
     },
     "execution_count": 26,
     "metadata": {},
     "output_type": "execute_result"
    }
   ],
   "source": [
    "df['Call Type'].value_counts()"
   ]
  },
  {
   "cell_type": "code",
   "execution_count": 27,
   "id": "26845f0d",
   "metadata": {},
   "outputs": [],
   "source": [
    "df['Call Type'].replace('-', 'UNKNOWN', inplace=True)\n",
    "df.drop(columns = ['Initial Call Type', 'Final Call Type'], inplace=True)"
   ]
  },
  {
   "cell_type": "markdown",
   "id": "db7716b9",
   "metadata": {},
   "source": [
    "#### Officer Squad"
   ]
  },
  {
   "cell_type": "markdown",
   "id": "d539f64b",
   "metadata": {},
   "source": [
    "This column seems to largely overlap with Precinct and will be dropped."
   ]
  },
  {
   "cell_type": "code",
   "execution_count": 28,
   "id": "dca341a9",
   "metadata": {},
   "outputs": [
    {
     "data": {
      "text/plain": [
       "TRAINING - FIELD TRAINING SQUAD                        5039\n",
       "WEST PCT 1ST W - DAVID/MARY                            1570\n",
       "WEST PCT 2ND W - D/M RELIEF                             998\n",
       "SOUTHWEST PCT 2ND W - FRANK                             985\n",
       "WEST PCT 1ST W - KING/QUEEN                             881\n",
       "                                                       ... \n",
       "COMMUNITY OUTREACH - YOUTH VIOLENCE -SCHOOLS DETAIL       1\n",
       "HR - BLEA - ACADEMY RECRUITS                              1\n",
       "ZOLD CRIME ANALYSIS UNIT - ANALYSTS                       1\n",
       "BURG/THEFT/JUV - NORTH                                    1\n",
       "CANINE - NIGHT SQUAD                                      1\n",
       "Name: Officer Squad, Length: 167, dtype: int64"
      ]
     },
     "execution_count": 28,
     "metadata": {},
     "output_type": "execute_result"
    }
   ],
   "source": [
    "df['Officer Squad'].value_counts()"
   ]
  },
  {
   "cell_type": "code",
   "execution_count": 29,
   "id": "ec4cd4ca",
   "metadata": {},
   "outputs": [],
   "source": [
    "df.drop(columns=['Officer Squad'], inplace=True)"
   ]
  },
  {
   "cell_type": "markdown",
   "id": "9fe02ef6",
   "metadata": {},
   "source": [
    "#### Frisk Flag"
   ]
  },
  {
   "cell_type": "markdown",
   "id": "f49dbdad",
   "metadata": {},
   "source": [
    "A few rows have null values and will be dropped."
   ]
  },
  {
   "cell_type": "code",
   "execution_count": 30,
   "id": "fbc6a4bb",
   "metadata": {},
   "outputs": [
    {
     "data": {
      "text/plain": [
       "N    35876\n",
       "Y    10641\n",
       "-      395\n",
       "Name: Frisk Flag, dtype: int64"
      ]
     },
     "execution_count": 30,
     "metadata": {},
     "output_type": "execute_result"
    }
   ],
   "source": [
    "df['Frisk Flag'].value_counts()"
   ]
  },
  {
   "cell_type": "code",
   "execution_count": 31,
   "id": "d79ce272",
   "metadata": {},
   "outputs": [],
   "source": [
    "df = df[df['Frisk Flag'] != '-']"
   ]
  },
  {
   "cell_type": "markdown",
   "id": "0d519c35",
   "metadata": {},
   "source": [
    "#### Precinct, Sector, and Beat"
   ]
  },
  {
   "cell_type": "markdown",
   "id": "3ad5f6a7",
   "metadata": {},
   "source": [
    "For now, I will use all three values, although based on the number of values and the number of null values, I am uncertain whether Sector and Beat will end up being useful. Precinct has a couple of data issues to resolve."
   ]
  },
  {
   "cell_type": "code",
   "execution_count": 32,
   "id": "41360c6c",
   "metadata": {},
   "outputs": [
    {
     "data": {
      "text/plain": [
       "West         11498\n",
       "North        10254\n",
       "-             9428\n",
       "East          6158\n",
       "South         5551\n",
       "Southwest     2220\n",
       "SouthWest     1171\n",
       "Unknown        181\n",
       "OOJ             35\n",
       "FK ERROR        21\n",
       "Name: Precinct, dtype: int64"
      ]
     },
     "execution_count": 32,
     "metadata": {},
     "output_type": "execute_result"
    }
   ],
   "source": [
    "df['Precinct'].value_counts()"
   ]
  },
  {
   "cell_type": "code",
   "execution_count": 33,
   "id": "97b2f4f7",
   "metadata": {},
   "outputs": [],
   "source": [
    "df['Precinct'].replace('-', 'Unknown', inplace=True)\n",
    "df['Precinct'].replace('SouthWest', 'Southwest', inplace=True)"
   ]
  },
  {
   "cell_type": "code",
   "execution_count": 34,
   "id": "e49c1bee",
   "metadata": {},
   "outputs": [
    {
     "data": {
      "text/plain": [
       "-         9620\n",
       "E         2247\n",
       "M         2200\n",
       "N         2109\n",
       "K         1804\n",
       "K         1702\n",
       "B         1616\n",
       "L         1565\n",
       "D         1473\n",
       "R         1376\n",
       "F         1330\n",
       "M         1322\n",
       "S         1286\n",
       "U         1247\n",
       "D         1205\n",
       "O         1096\n",
       "J         1089\n",
       "G         1052\n",
       "C          996\n",
       "E          961\n",
       "Q          939\n",
       "W          889\n",
       "Q          849\n",
       "N          738\n",
       "F          722\n",
       "R          658\n",
       "O          639\n",
       "B          559\n",
       "S          497\n",
       "G          485\n",
       "U          465\n",
       "L          462\n",
       "W          448\n",
       "C          416\n",
       "J          404\n",
       "99          51\n",
       "Name: Sector, dtype: int64"
      ]
     },
     "execution_count": 34,
     "metadata": {},
     "output_type": "execute_result"
    }
   ],
   "source": [
    "df['Sector'].value_counts()"
   ]
  },
  {
   "cell_type": "code",
   "execution_count": 35,
   "id": "5cfed2c7",
   "metadata": {},
   "outputs": [
    {
     "data": {
      "text/plain": [
       "-         9556\n",
       "N3        1131\n",
       "E2        1050\n",
       "K3        1009\n",
       "M2         836\n",
       "          ... \n",
       "J2          76\n",
       "99          51\n",
       "99          35\n",
       "OOJ         23\n",
       "S            2\n",
       "Name: Beat, Length: 107, dtype: int64"
      ]
     },
     "execution_count": 35,
     "metadata": {},
     "output_type": "execute_result"
    }
   ],
   "source": [
    "df['Beat'].value_counts()"
   ]
  },
  {
   "cell_type": "markdown",
   "id": "2e26cdec",
   "metadata": {},
   "source": [
    "#### Review Updated Data"
   ]
  },
  {
   "cell_type": "markdown",
   "id": "74a6d2a3",
   "metadata": {},
   "source": [
    "At this point, I believe the data is clean enough to begin the base model."
   ]
  },
  {
   "cell_type": "code",
   "execution_count": 36,
   "id": "e5251a42",
   "metadata": {},
   "outputs": [
    {
     "data": {
      "text/html": [
       "<div>\n",
       "<style scoped>\n",
       "    .dataframe tbody tr th:only-of-type {\n",
       "        vertical-align: middle;\n",
       "    }\n",
       "\n",
       "    .dataframe tbody tr th {\n",
       "        vertical-align: top;\n",
       "    }\n",
       "\n",
       "    .dataframe thead th {\n",
       "        text-align: right;\n",
       "    }\n",
       "</style>\n",
       "<table border=\"1\" class=\"dataframe\">\n",
       "  <thead>\n",
       "    <tr style=\"text-align: right;\">\n",
       "      <th></th>\n",
       "      <th>Subject Age Group</th>\n",
       "      <th>Subject ID</th>\n",
       "      <th>Stop Resolution</th>\n",
       "      <th>Weapon Type</th>\n",
       "      <th>Officer ID</th>\n",
       "      <th>Officer YOB</th>\n",
       "      <th>Officer Gender</th>\n",
       "      <th>Officer Race</th>\n",
       "      <th>Subject Perceived Race</th>\n",
       "      <th>Subject Perceived Gender</th>\n",
       "      <th>...</th>\n",
       "      <th>Call Type</th>\n",
       "      <th>Arrest Flag</th>\n",
       "      <th>Frisk Flag</th>\n",
       "      <th>Precinct</th>\n",
       "      <th>Sector</th>\n",
       "      <th>Beat</th>\n",
       "      <th>Officer Age Group</th>\n",
       "      <th>Day of Week</th>\n",
       "      <th>Year</th>\n",
       "      <th>Month</th>\n",
       "    </tr>\n",
       "  </thead>\n",
       "  <tbody>\n",
       "    <tr>\n",
       "      <th>0</th>\n",
       "      <td>26 - 35</td>\n",
       "      <td>0</td>\n",
       "      <td>Field Contact</td>\n",
       "      <td>None</td>\n",
       "      <td>7595</td>\n",
       "      <td>1978</td>\n",
       "      <td>M</td>\n",
       "      <td>White</td>\n",
       "      <td>Asian</td>\n",
       "      <td>Male</td>\n",
       "      <td>...</td>\n",
       "      <td>UNKNOWN</td>\n",
       "      <td>N</td>\n",
       "      <td>N</td>\n",
       "      <td>Unknown</td>\n",
       "      <td>-</td>\n",
       "      <td>-</td>\n",
       "      <td>Gen X</td>\n",
       "      <td>Friday</td>\n",
       "      <td>2015</td>\n",
       "      <td>April</td>\n",
       "    </tr>\n",
       "    <tr>\n",
       "      <th>1218</th>\n",
       "      <td>1 - 17</td>\n",
       "      <td>0</td>\n",
       "      <td>Field Contact</td>\n",
       "      <td>None</td>\n",
       "      <td>7726</td>\n",
       "      <td>1990</td>\n",
       "      <td>M</td>\n",
       "      <td>White</td>\n",
       "      <td>White</td>\n",
       "      <td>Female</td>\n",
       "      <td>...</td>\n",
       "      <td>UNKNOWN</td>\n",
       "      <td>N</td>\n",
       "      <td>N</td>\n",
       "      <td>Unknown</td>\n",
       "      <td>-</td>\n",
       "      <td>-</td>\n",
       "      <td>Millenial</td>\n",
       "      <td>Sunday</td>\n",
       "      <td>2015</td>\n",
       "      <td>May</td>\n",
       "    </tr>\n",
       "    <tr>\n",
       "      <th>1598</th>\n",
       "      <td>1 - 17</td>\n",
       "      <td>0</td>\n",
       "      <td>Arrest</td>\n",
       "      <td>None</td>\n",
       "      <td>7715</td>\n",
       "      <td>1992</td>\n",
       "      <td>M</td>\n",
       "      <td>White</td>\n",
       "      <td>American Indian or Alaska Native</td>\n",
       "      <td>Male</td>\n",
       "      <td>...</td>\n",
       "      <td>UNKNOWN</td>\n",
       "      <td>N</td>\n",
       "      <td>Y</td>\n",
       "      <td>East</td>\n",
       "      <td>G</td>\n",
       "      <td>G1</td>\n",
       "      <td>Millenial</td>\n",
       "      <td>Sunday</td>\n",
       "      <td>2015</td>\n",
       "      <td>September</td>\n",
       "    </tr>\n",
       "    <tr>\n",
       "      <th>1599</th>\n",
       "      <td>1 - 17</td>\n",
       "      <td>0</td>\n",
       "      <td>Field Contact</td>\n",
       "      <td>None</td>\n",
       "      <td>7745</td>\n",
       "      <td>1988</td>\n",
       "      <td>F</td>\n",
       "      <td>Not Specified</td>\n",
       "      <td>Unknown</td>\n",
       "      <td>Male</td>\n",
       "      <td>...</td>\n",
       "      <td>UNKNOWN</td>\n",
       "      <td>N</td>\n",
       "      <td>Y</td>\n",
       "      <td>Unknown</td>\n",
       "      <td>-</td>\n",
       "      <td>-</td>\n",
       "      <td>Millenial</td>\n",
       "      <td>Sunday</td>\n",
       "      <td>2015</td>\n",
       "      <td>April</td>\n",
       "    </tr>\n",
       "    <tr>\n",
       "      <th>1602</th>\n",
       "      <td>1 - 17</td>\n",
       "      <td>0</td>\n",
       "      <td>Field Contact</td>\n",
       "      <td>None</td>\n",
       "      <td>7642</td>\n",
       "      <td>1988</td>\n",
       "      <td>M</td>\n",
       "      <td>White</td>\n",
       "      <td>White</td>\n",
       "      <td>Male</td>\n",
       "      <td>...</td>\n",
       "      <td>UNKNOWN</td>\n",
       "      <td>N</td>\n",
       "      <td>N</td>\n",
       "      <td>Unknown</td>\n",
       "      <td>-</td>\n",
       "      <td>-</td>\n",
       "      <td>Millenial</td>\n",
       "      <td>Monday</td>\n",
       "      <td>2015</td>\n",
       "      <td>April</td>\n",
       "    </tr>\n",
       "  </tbody>\n",
       "</table>\n",
       "<p>5 rows × 21 columns</p>\n",
       "</div>"
      ],
      "text/plain": [
       "     Subject Age Group  Subject ID Stop Resolution Weapon Type Officer ID  \\\n",
       "0              26 - 35           0   Field Contact        None     7595     \n",
       "1218            1 - 17           0   Field Contact        None     7726     \n",
       "1598            1 - 17           0          Arrest        None     7715     \n",
       "1599            1 - 17           0   Field Contact        None     7745     \n",
       "1602            1 - 17           0   Field Contact        None     7642     \n",
       "\n",
       "      Officer YOB Officer Gender   Officer Race  \\\n",
       "0            1978              M          White   \n",
       "1218         1990              M          White   \n",
       "1598         1992              M          White   \n",
       "1599         1988              F  Not Specified   \n",
       "1602         1988              M          White   \n",
       "\n",
       "                Subject Perceived Race Subject Perceived Gender  ...  \\\n",
       "0                                Asian                     Male  ...   \n",
       "1218                             White                   Female  ...   \n",
       "1598  American Indian or Alaska Native                     Male  ...   \n",
       "1599                           Unknown                     Male  ...   \n",
       "1602                             White                     Male  ...   \n",
       "\n",
       "     Call Type Arrest Flag Frisk Flag Precinct  Sector    Beat  \\\n",
       "0      UNKNOWN           N          N  Unknown       -       -   \n",
       "1218   UNKNOWN           N          N  Unknown       -       -   \n",
       "1598   UNKNOWN           N          Y     East  G       G1       \n",
       "1599   UNKNOWN           N          Y  Unknown       -       -   \n",
       "1602   UNKNOWN           N          N  Unknown       -       -   \n",
       "\n",
       "     Officer Age Group Day of Week  Year      Month  \n",
       "0                Gen X      Friday  2015      April  \n",
       "1218         Millenial      Sunday  2015        May  \n",
       "1598         Millenial      Sunday  2015  September  \n",
       "1599         Millenial      Sunday  2015      April  \n",
       "1602         Millenial      Monday  2015      April  \n",
       "\n",
       "[5 rows x 21 columns]"
      ]
     },
     "execution_count": 36,
     "metadata": {},
     "output_type": "execute_result"
    }
   ],
   "source": [
    "df.head()"
   ]
  },
  {
   "cell_type": "code",
   "execution_count": 37,
   "id": "3ee00eea",
   "metadata": {},
   "outputs": [
    {
     "name": "stdout",
     "output_type": "stream",
     "text": [
      "<class 'pandas.core.frame.DataFrame'>\n",
      "Int64Index: 46517 entries, 0 to 48507\n",
      "Data columns (total 21 columns):\n",
      " #   Column                    Non-Null Count  Dtype         \n",
      "---  ------                    --------------  -----         \n",
      " 0   Subject Age Group         46517 non-null  object        \n",
      " 1   Subject ID                46517 non-null  int64         \n",
      " 2   Stop Resolution           46517 non-null  object        \n",
      " 3   Weapon Type               46517 non-null  object        \n",
      " 4   Officer ID                46517 non-null  object        \n",
      " 5   Officer YOB               46517 non-null  int64         \n",
      " 6   Officer Gender            46517 non-null  object        \n",
      " 7   Officer Race              46517 non-null  object        \n",
      " 8   Subject Perceived Race    46517 non-null  object        \n",
      " 9   Subject Perceived Gender  46517 non-null  object        \n",
      " 10  Reported Date             46517 non-null  datetime64[ns]\n",
      " 11  Call Type                 46517 non-null  object        \n",
      " 12  Arrest Flag               46517 non-null  object        \n",
      " 13  Frisk Flag                46517 non-null  object        \n",
      " 14  Precinct                  46517 non-null  object        \n",
      " 15  Sector                    46517 non-null  object        \n",
      " 16  Beat                      46517 non-null  object        \n",
      " 17  Officer Age Group         46517 non-null  category      \n",
      " 18  Day of Week               46517 non-null  object        \n",
      " 19  Year                      46517 non-null  int64         \n",
      " 20  Month                     46517 non-null  object        \n",
      "dtypes: category(1), datetime64[ns](1), int64(3), object(16)\n",
      "memory usage: 7.5+ MB\n"
     ]
    }
   ],
   "source": [
    "df.info()"
   ]
  },
  {
   "cell_type": "code",
   "execution_count": 38,
   "id": "58c16e82",
   "metadata": {},
   "outputs": [],
   "source": [
    "#save updated data to csv file\n",
    "df.to_csv('Cleaned Data')"
   ]
  }
 ],
 "metadata": {
  "kernelspec": {
   "display_name": "Python 3",
   "language": "python",
   "name": "python3"
  },
  "language_info": {
   "codemirror_mode": {
    "name": "ipython",
    "version": 3
   },
   "file_extension": ".py",
   "mimetype": "text/x-python",
   "name": "python",
   "nbconvert_exporter": "python",
   "pygments_lexer": "ipython3",
   "version": "3.8.8"
  }
 },
 "nbformat": 4,
 "nbformat_minor": 5
}
