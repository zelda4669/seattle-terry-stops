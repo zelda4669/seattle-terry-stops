{
 "cells": [
  {
   "cell_type": "markdown",
   "id": "58dc9fc2",
   "metadata": {},
   "source": [
    "# Data Cleaning and Feature Engineering"
   ]
  },
  {
   "cell_type": "code",
   "execution_count": 1,
   "id": "3e51480c",
   "metadata": {},
   "outputs": [
    {
     "data": {
      "text/html": [
       "<div>\n",
       "<style scoped>\n",
       "    .dataframe tbody tr th:only-of-type {\n",
       "        vertical-align: middle;\n",
       "    }\n",
       "\n",
       "    .dataframe tbody tr th {\n",
       "        vertical-align: top;\n",
       "    }\n",
       "\n",
       "    .dataframe thead th {\n",
       "        text-align: right;\n",
       "    }\n",
       "</style>\n",
       "<table border=\"1\" class=\"dataframe\">\n",
       "  <thead>\n",
       "    <tr style=\"text-align: right;\">\n",
       "      <th></th>\n",
       "      <th>Subject Age Group</th>\n",
       "      <th>Subject ID</th>\n",
       "      <th>GO / SC Num</th>\n",
       "      <th>Terry Stop ID</th>\n",
       "      <th>Stop Resolution</th>\n",
       "      <th>Weapon Type</th>\n",
       "      <th>Officer ID</th>\n",
       "      <th>Officer YOB</th>\n",
       "      <th>Officer Gender</th>\n",
       "      <th>Officer Race</th>\n",
       "      <th>...</th>\n",
       "      <th>Reported Time</th>\n",
       "      <th>Initial Call Type</th>\n",
       "      <th>Final Call Type</th>\n",
       "      <th>Call Type</th>\n",
       "      <th>Officer Squad</th>\n",
       "      <th>Arrest Flag</th>\n",
       "      <th>Frisk Flag</th>\n",
       "      <th>Precinct</th>\n",
       "      <th>Sector</th>\n",
       "      <th>Beat</th>\n",
       "    </tr>\n",
       "  </thead>\n",
       "  <tbody>\n",
       "    <tr>\n",
       "      <th>0</th>\n",
       "      <td>26 - 35</td>\n",
       "      <td>-1</td>\n",
       "      <td>20150000001920</td>\n",
       "      <td>36224</td>\n",
       "      <td>Field Contact</td>\n",
       "      <td>None</td>\n",
       "      <td>7595</td>\n",
       "      <td>1978</td>\n",
       "      <td>M</td>\n",
       "      <td>White</td>\n",
       "      <td>...</td>\n",
       "      <td>05:17:00</td>\n",
       "      <td>-</td>\n",
       "      <td>-</td>\n",
       "      <td>-</td>\n",
       "      <td>NaN</td>\n",
       "      <td>N</td>\n",
       "      <td>N</td>\n",
       "      <td>-</td>\n",
       "      <td>-</td>\n",
       "      <td>-</td>\n",
       "    </tr>\n",
       "    <tr>\n",
       "      <th>1</th>\n",
       "      <td>-</td>\n",
       "      <td>-1</td>\n",
       "      <td>20140000120677</td>\n",
       "      <td>92317</td>\n",
       "      <td>Arrest</td>\n",
       "      <td>None</td>\n",
       "      <td>7500</td>\n",
       "      <td>1984</td>\n",
       "      <td>M</td>\n",
       "      <td>Black or African American</td>\n",
       "      <td>...</td>\n",
       "      <td>11:32:00</td>\n",
       "      <td>-</td>\n",
       "      <td>-</td>\n",
       "      <td>-</td>\n",
       "      <td>SOUTH PCT 1ST W - ROBERT</td>\n",
       "      <td>N</td>\n",
       "      <td>N</td>\n",
       "      <td>South</td>\n",
       "      <td>O</td>\n",
       "      <td>O2</td>\n",
       "    </tr>\n",
       "    <tr>\n",
       "      <th>2</th>\n",
       "      <td>-</td>\n",
       "      <td>-1</td>\n",
       "      <td>20150000001463</td>\n",
       "      <td>28806</td>\n",
       "      <td>Field Contact</td>\n",
       "      <td>None</td>\n",
       "      <td>5670</td>\n",
       "      <td>1965</td>\n",
       "      <td>M</td>\n",
       "      <td>White</td>\n",
       "      <td>...</td>\n",
       "      <td>07:59:00</td>\n",
       "      <td>-</td>\n",
       "      <td>-</td>\n",
       "      <td>-</td>\n",
       "      <td>NaN</td>\n",
       "      <td>N</td>\n",
       "      <td>N</td>\n",
       "      <td>-</td>\n",
       "      <td>-</td>\n",
       "      <td>-</td>\n",
       "    </tr>\n",
       "    <tr>\n",
       "      <th>3</th>\n",
       "      <td>-</td>\n",
       "      <td>-1</td>\n",
       "      <td>20150000001516</td>\n",
       "      <td>29599</td>\n",
       "      <td>Field Contact</td>\n",
       "      <td>None</td>\n",
       "      <td>4844</td>\n",
       "      <td>1961</td>\n",
       "      <td>M</td>\n",
       "      <td>White</td>\n",
       "      <td>...</td>\n",
       "      <td>19:12:00</td>\n",
       "      <td>-</td>\n",
       "      <td>-</td>\n",
       "      <td>-</td>\n",
       "      <td>NaN</td>\n",
       "      <td>N</td>\n",
       "      <td>-</td>\n",
       "      <td>-</td>\n",
       "      <td>-</td>\n",
       "      <td>-</td>\n",
       "    </tr>\n",
       "    <tr>\n",
       "      <th>4</th>\n",
       "      <td>-</td>\n",
       "      <td>-1</td>\n",
       "      <td>20150000001670</td>\n",
       "      <td>32260</td>\n",
       "      <td>Field Contact</td>\n",
       "      <td>None</td>\n",
       "      <td>7539</td>\n",
       "      <td>1963</td>\n",
       "      <td>M</td>\n",
       "      <td>White</td>\n",
       "      <td>...</td>\n",
       "      <td>04:55:00</td>\n",
       "      <td>-</td>\n",
       "      <td>-</td>\n",
       "      <td>-</td>\n",
       "      <td>NaN</td>\n",
       "      <td>N</td>\n",
       "      <td>N</td>\n",
       "      <td>-</td>\n",
       "      <td>-</td>\n",
       "      <td>-</td>\n",
       "    </tr>\n",
       "  </tbody>\n",
       "</table>\n",
       "<p>5 rows × 23 columns</p>\n",
       "</div>"
      ],
      "text/plain": [
       "  Subject Age Group  Subject ID     GO / SC Num  Terry Stop ID  \\\n",
       "0           26 - 35          -1  20150000001920          36224   \n",
       "1                 -          -1  20140000120677          92317   \n",
       "2                 -          -1  20150000001463          28806   \n",
       "3                 -          -1  20150000001516          29599   \n",
       "4                 -          -1  20150000001670          32260   \n",
       "\n",
       "  Stop Resolution Weapon Type Officer ID  Officer YOB Officer Gender  \\\n",
       "0   Field Contact        None     7595           1978              M   \n",
       "1          Arrest        None     7500           1984              M   \n",
       "2   Field Contact        None     5670           1965              M   \n",
       "3   Field Contact        None     4844           1961              M   \n",
       "4   Field Contact        None     7539           1963              M   \n",
       "\n",
       "                Officer Race  ... Reported Time Initial Call Type  \\\n",
       "0                      White  ...      05:17:00                 -   \n",
       "1  Black or African American  ...      11:32:00                 -   \n",
       "2                      White  ...      07:59:00                 -   \n",
       "3                      White  ...      19:12:00                 -   \n",
       "4                      White  ...      04:55:00                 -   \n",
       "\n",
       "  Final Call Type Call Type             Officer Squad Arrest Flag Frisk Flag  \\\n",
       "0               -         -                       NaN           N          N   \n",
       "1               -         -  SOUTH PCT 1ST W - ROBERT           N          N   \n",
       "2               -         -                       NaN           N          N   \n",
       "3               -         -                       NaN           N          -   \n",
       "4               -         -                       NaN           N          N   \n",
       "\n",
       "  Precinct  Sector    Beat  \n",
       "0        -       -       -  \n",
       "1    South  O       O2      \n",
       "2        -       -       -  \n",
       "3        -       -       -  \n",
       "4        -       -       -  \n",
       "\n",
       "[5 rows x 23 columns]"
      ]
     },
     "execution_count": 1,
     "metadata": {},
     "output_type": "execute_result"
    }
   ],
   "source": [
    "import pandas as pd\n",
    "import numpy as np\n",
    "\n",
    "import warnings\n",
    "warnings.filterwarnings('ignore')\n",
    "\n",
    "df=pd.read_csv('Terry_Stops.csv')\n",
    "df.head()"
   ]
  },
  {
   "cell_type": "code",
   "execution_count": 2,
   "id": "baf80847",
   "metadata": {},
   "outputs": [],
   "source": [
    "#First drop columns that are not useful for prediction\n",
    "df.drop(columns=['GO / SC Num', 'Terry Stop ID', 'Arrest Flag', 'Frisk Flag', 'Sector', \n",
    "                 'Beat', 'Reported Time', 'Initial Call Type', 'Final Call Type', 'Officer Squad'], inplace=True)"
   ]
  },
  {
   "cell_type": "code",
   "execution_count": 3,
   "id": "6caab7ed",
   "metadata": {},
   "outputs": [
    {
     "data": {
      "text/html": [
       "<div>\n",
       "<style scoped>\n",
       "    .dataframe tbody tr th:only-of-type {\n",
       "        vertical-align: middle;\n",
       "    }\n",
       "\n",
       "    .dataframe tbody tr th {\n",
       "        vertical-align: top;\n",
       "    }\n",
       "\n",
       "    .dataframe thead th {\n",
       "        text-align: right;\n",
       "    }\n",
       "</style>\n",
       "<table border=\"1\" class=\"dataframe\">\n",
       "  <thead>\n",
       "    <tr style=\"text-align: right;\">\n",
       "      <th></th>\n",
       "      <th>Subject Age Group</th>\n",
       "      <th>Subject ID</th>\n",
       "      <th>Stop Resolution</th>\n",
       "      <th>Weapon Type</th>\n",
       "      <th>Officer ID</th>\n",
       "      <th>Officer YOB</th>\n",
       "      <th>Officer Gender</th>\n",
       "      <th>Officer Race</th>\n",
       "      <th>Subject Perceived Race</th>\n",
       "      <th>Subject Perceived Gender</th>\n",
       "      <th>Reported Date</th>\n",
       "      <th>Call Type</th>\n",
       "      <th>Precinct</th>\n",
       "    </tr>\n",
       "  </thead>\n",
       "  <tbody>\n",
       "    <tr>\n",
       "      <th>0</th>\n",
       "      <td>26 - 35</td>\n",
       "      <td>-1</td>\n",
       "      <td>Field Contact</td>\n",
       "      <td>None</td>\n",
       "      <td>7595</td>\n",
       "      <td>1978</td>\n",
       "      <td>M</td>\n",
       "      <td>White</td>\n",
       "      <td>Asian</td>\n",
       "      <td>Male</td>\n",
       "      <td>2015-04-17T00:00:00</td>\n",
       "      <td>-</td>\n",
       "      <td>-</td>\n",
       "    </tr>\n",
       "    <tr>\n",
       "      <th>1</th>\n",
       "      <td>-</td>\n",
       "      <td>-1</td>\n",
       "      <td>Arrest</td>\n",
       "      <td>None</td>\n",
       "      <td>7500</td>\n",
       "      <td>1984</td>\n",
       "      <td>M</td>\n",
       "      <td>Black or African American</td>\n",
       "      <td>Asian</td>\n",
       "      <td>Male</td>\n",
       "      <td>2015-10-16T00:00:00</td>\n",
       "      <td>-</td>\n",
       "      <td>South</td>\n",
       "    </tr>\n",
       "    <tr>\n",
       "      <th>2</th>\n",
       "      <td>-</td>\n",
       "      <td>-1</td>\n",
       "      <td>Field Contact</td>\n",
       "      <td>None</td>\n",
       "      <td>5670</td>\n",
       "      <td>1965</td>\n",
       "      <td>M</td>\n",
       "      <td>White</td>\n",
       "      <td>-</td>\n",
       "      <td>-</td>\n",
       "      <td>2015-03-19T00:00:00</td>\n",
       "      <td>-</td>\n",
       "      <td>-</td>\n",
       "    </tr>\n",
       "    <tr>\n",
       "      <th>3</th>\n",
       "      <td>-</td>\n",
       "      <td>-1</td>\n",
       "      <td>Field Contact</td>\n",
       "      <td>None</td>\n",
       "      <td>4844</td>\n",
       "      <td>1961</td>\n",
       "      <td>M</td>\n",
       "      <td>White</td>\n",
       "      <td>White</td>\n",
       "      <td>Male</td>\n",
       "      <td>2015-03-21T00:00:00</td>\n",
       "      <td>-</td>\n",
       "      <td>-</td>\n",
       "    </tr>\n",
       "    <tr>\n",
       "      <th>4</th>\n",
       "      <td>-</td>\n",
       "      <td>-1</td>\n",
       "      <td>Field Contact</td>\n",
       "      <td>None</td>\n",
       "      <td>7539</td>\n",
       "      <td>1963</td>\n",
       "      <td>M</td>\n",
       "      <td>White</td>\n",
       "      <td>-</td>\n",
       "      <td>-</td>\n",
       "      <td>2015-04-01T00:00:00</td>\n",
       "      <td>-</td>\n",
       "      <td>-</td>\n",
       "    </tr>\n",
       "    <tr>\n",
       "      <th>...</th>\n",
       "      <td>...</td>\n",
       "      <td>...</td>\n",
       "      <td>...</td>\n",
       "      <td>...</td>\n",
       "      <td>...</td>\n",
       "      <td>...</td>\n",
       "      <td>...</td>\n",
       "      <td>...</td>\n",
       "      <td>...</td>\n",
       "      <td>...</td>\n",
       "      <td>...</td>\n",
       "      <td>...</td>\n",
       "      <td>...</td>\n",
       "    </tr>\n",
       "    <tr>\n",
       "      <th>48503</th>\n",
       "      <td>56 and Above</td>\n",
       "      <td>25788807481</td>\n",
       "      <td>Arrest</td>\n",
       "      <td>-</td>\n",
       "      <td>8450</td>\n",
       "      <td>1992</td>\n",
       "      <td>M</td>\n",
       "      <td>Hispanic or Latino</td>\n",
       "      <td>White</td>\n",
       "      <td>Male</td>\n",
       "      <td>2021-06-26T00:00:00</td>\n",
       "      <td>911</td>\n",
       "      <td>East</td>\n",
       "    </tr>\n",
       "    <tr>\n",
       "      <th>48504</th>\n",
       "      <td>56 and Above</td>\n",
       "      <td>25793767417</td>\n",
       "      <td>Field Contact</td>\n",
       "      <td>-</td>\n",
       "      <td>8808</td>\n",
       "      <td>1990</td>\n",
       "      <td>F</td>\n",
       "      <td>White</td>\n",
       "      <td>White</td>\n",
       "      <td>Male</td>\n",
       "      <td>2021-06-29T00:00:00</td>\n",
       "      <td>-</td>\n",
       "      <td>South</td>\n",
       "    </tr>\n",
       "    <tr>\n",
       "      <th>48505</th>\n",
       "      <td>56 and Above</td>\n",
       "      <td>25797226393</td>\n",
       "      <td>Field Contact</td>\n",
       "      <td>-</td>\n",
       "      <td>8739</td>\n",
       "      <td>1987</td>\n",
       "      <td>M</td>\n",
       "      <td>Two or More Races</td>\n",
       "      <td>Black or African American</td>\n",
       "      <td>Male</td>\n",
       "      <td>2021-06-30T00:00:00</td>\n",
       "      <td>ONVIEW</td>\n",
       "      <td>North</td>\n",
       "    </tr>\n",
       "    <tr>\n",
       "      <th>48506</th>\n",
       "      <td>56 and Above</td>\n",
       "      <td>25931661234</td>\n",
       "      <td>Field Contact</td>\n",
       "      <td>-</td>\n",
       "      <td>8517</td>\n",
       "      <td>1990</td>\n",
       "      <td>M</td>\n",
       "      <td>White</td>\n",
       "      <td>White</td>\n",
       "      <td>Male</td>\n",
       "      <td>2021-07-14T00:00:00</td>\n",
       "      <td>-</td>\n",
       "      <td>-</td>\n",
       "    </tr>\n",
       "    <tr>\n",
       "      <th>48507</th>\n",
       "      <td>56 and Above</td>\n",
       "      <td>26523685710</td>\n",
       "      <td>Field Contact</td>\n",
       "      <td>-</td>\n",
       "      <td>8348</td>\n",
       "      <td>1988</td>\n",
       "      <td>M</td>\n",
       "      <td>White</td>\n",
       "      <td>White</td>\n",
       "      <td>Male</td>\n",
       "      <td>2021-07-28T00:00:00</td>\n",
       "      <td>911</td>\n",
       "      <td>West</td>\n",
       "    </tr>\n",
       "  </tbody>\n",
       "</table>\n",
       "<p>48508 rows × 13 columns</p>\n",
       "</div>"
      ],
      "text/plain": [
       "      Subject Age Group   Subject ID Stop Resolution Weapon Type Officer ID  \\\n",
       "0               26 - 35           -1   Field Contact        None     7595     \n",
       "1                     -           -1          Arrest        None     7500     \n",
       "2                     -           -1   Field Contact        None     5670     \n",
       "3                     -           -1   Field Contact        None     4844     \n",
       "4                     -           -1   Field Contact        None     7539     \n",
       "...                 ...          ...             ...         ...        ...   \n",
       "48503      56 and Above  25788807481          Arrest           -     8450     \n",
       "48504      56 and Above  25793767417   Field Contact           -     8808     \n",
       "48505      56 and Above  25797226393   Field Contact           -     8739     \n",
       "48506      56 and Above  25931661234   Field Contact           -     8517     \n",
       "48507      56 and Above  26523685710   Field Contact           -     8348     \n",
       "\n",
       "       Officer YOB Officer Gender               Officer Race  \\\n",
       "0             1978              M                      White   \n",
       "1             1984              M  Black or African American   \n",
       "2             1965              M                      White   \n",
       "3             1961              M                      White   \n",
       "4             1963              M                      White   \n",
       "...            ...            ...                        ...   \n",
       "48503         1992              M         Hispanic or Latino   \n",
       "48504         1990              F                      White   \n",
       "48505         1987              M          Two or More Races   \n",
       "48506         1990              M                      White   \n",
       "48507         1988              M                      White   \n",
       "\n",
       "          Subject Perceived Race Subject Perceived Gender  \\\n",
       "0                          Asian                     Male   \n",
       "1                          Asian                     Male   \n",
       "2                              -                        -   \n",
       "3                          White                     Male   \n",
       "4                              -                        -   \n",
       "...                          ...                      ...   \n",
       "48503                      White                     Male   \n",
       "48504                      White                     Male   \n",
       "48505  Black or African American                     Male   \n",
       "48506                      White                     Male   \n",
       "48507                      White                     Male   \n",
       "\n",
       "             Reported Date Call Type Precinct  \n",
       "0      2015-04-17T00:00:00         -        -  \n",
       "1      2015-10-16T00:00:00         -    South  \n",
       "2      2015-03-19T00:00:00         -        -  \n",
       "3      2015-03-21T00:00:00         -        -  \n",
       "4      2015-04-01T00:00:00         -        -  \n",
       "...                    ...       ...      ...  \n",
       "48503  2021-06-26T00:00:00       911     East  \n",
       "48504  2021-06-29T00:00:00         -    South  \n",
       "48505  2021-06-30T00:00:00    ONVIEW    North  \n",
       "48506  2021-07-14T00:00:00         -        -  \n",
       "48507  2021-07-28T00:00:00       911     West  \n",
       "\n",
       "[48508 rows x 13 columns]"
      ]
     },
     "execution_count": 3,
     "metadata": {},
     "output_type": "execute_result"
    }
   ],
   "source": [
    "df"
   ]
  },
  {
   "cell_type": "markdown",
   "id": "2cb5ee80",
   "metadata": {},
   "source": [
    "#### Subject Age Group"
   ]
  },
  {
   "cell_type": "markdown",
   "id": "352d19bc",
   "metadata": {},
   "source": [
    "Subjects are binned into perceived age groups. Because of the small number of null values, I will remove these rows from the dataset."
   ]
  },
  {
   "cell_type": "code",
   "execution_count": 4,
   "id": "cbad8141",
   "metadata": {},
   "outputs": [
    {
     "data": {
      "text/plain": [
       "26 - 35         16165\n",
       "36 - 45         10342\n",
       "18 - 25          9672\n",
       "46 - 55          6275\n",
       "56 and Above     2468\n",
       "1 - 17           1990\n",
       "-                1596\n",
       "Name: Subject Age Group, dtype: int64"
      ]
     },
     "execution_count": 4,
     "metadata": {},
     "output_type": "execute_result"
    }
   ],
   "source": [
    "df['Subject Age Group'].value_counts()"
   ]
  },
  {
   "cell_type": "code",
   "execution_count": 5,
   "id": "ce944b50",
   "metadata": {},
   "outputs": [],
   "source": [
    "df = df[df['Subject Age Group'] != '-']"
   ]
  },
  {
   "cell_type": "markdown",
   "id": "cdba02f5",
   "metadata": {},
   "source": [
    "#### Subject ID"
   ]
  },
  {
   "cell_type": "markdown",
   "id": "2df507c8",
   "metadata": {},
   "source": [
    "This column indicates whether or not the subject presented identification to the officer. If ID was presented, the subject is identified according to their ID number in the police database. If ID is not presented, this value is recorded as -1. For simplicity, I will convert this column to boolean--True (1) indicating that the subject presented identification, and False (0) meaning they did not."
   ]
  },
  {
   "cell_type": "code",
   "execution_count": 6,
   "id": "ce732af2",
   "metadata": {},
   "outputs": [],
   "source": [
    "df.loc[df['Subject ID'] > 0, 'Subject ID'] = 1"
   ]
  },
  {
   "cell_type": "code",
   "execution_count": 7,
   "id": "bc5dd573",
   "metadata": {},
   "outputs": [],
   "source": [
    "df.loc[df['Subject ID'] < 0, 'Subject ID'] = 0"
   ]
  },
  {
   "cell_type": "markdown",
   "id": "93a55ec9",
   "metadata": {},
   "source": [
    "#### Stop Resolution"
   ]
  },
  {
   "cell_type": "markdown",
   "id": "172c0a24",
   "metadata": {},
   "source": [
    "'Offense Report' and 'Citation/Infraction' will be condensed into a single category, 'Citation', and 'Referred for Prosecution' will be rolled into the 'Arrest' category. I will also rename 'Field Contact' to 'No Action' to make it more clear what the result of the stop was."
   ]
  },
  {
   "cell_type": "code",
   "execution_count": 8,
   "id": "8e65d010",
   "metadata": {},
   "outputs": [
    {
     "data": {
      "text/plain": [
       "Field Contact               18817\n",
       "Offense Report              15367\n",
       "Arrest                      11834\n",
       "Referred for Prosecution      719\n",
       "Citation / Infraction         175\n",
       "Name: Stop Resolution, dtype: int64"
      ]
     },
     "execution_count": 8,
     "metadata": {},
     "output_type": "execute_result"
    }
   ],
   "source": [
    "df['Stop Resolution'].value_counts()"
   ]
  },
  {
   "cell_type": "code",
   "execution_count": 9,
   "id": "40ef7b60",
   "metadata": {},
   "outputs": [],
   "source": [
    "df['Stop Resolution'].replace('Referred for Prosecution', 'Arrest', inplace=True)\n",
    "df['Stop Resolution'].replace('Citation / Infraction', 'Offense Report', inplace=True)\n",
    "\n",
    "df['Stop Resolution'].replace('Field Contact', 'No Action', inplace=True)\n",
    "df['Stop Resolution'].replace('Offense Report', 'Citation', inplace=True)\n",
    "\n",
    "df.loc[df['Stop Resolution'] == 'No Action', 'Actionable Stop'] = 0\n",
    "df.loc[df['Stop Resolution'] != 'No Action', 'Actionable Stop'] = 1"
   ]
  },
  {
   "cell_type": "code",
   "execution_count": 10,
   "id": "8ba1f5d6",
   "metadata": {},
   "outputs": [
    {
     "data": {
      "text/plain": [
       "1.0    28095\n",
       "0.0    18817\n",
       "Name: Actionable Stop, dtype: int64"
      ]
     },
     "execution_count": 10,
     "metadata": {},
     "output_type": "execute_result"
    }
   ],
   "source": [
    "df['Actionable Stop'].value_counts()"
   ]
  },
  {
   "cell_type": "markdown",
   "id": "4e5d485a",
   "metadata": {},
   "source": [
    "#### Weapon Type"
   ]
  },
  {
   "cell_type": "markdown",
   "id": "fc3f8689",
   "metadata": {},
   "source": [
    "Rather than separate by weapon type, I will create a column to track whether or not a weapon was found during the stop."
   ]
  },
  {
   "cell_type": "code",
   "execution_count": 11,
   "id": "5d8e2bde",
   "metadata": {},
   "outputs": [
    {
     "data": {
      "text/plain": [
       "None                                    31601\n",
       "-                                       12476\n",
       "Lethal Cutting Instrument                1456\n",
       "Knife/Cutting/Stabbing Instrument         694\n",
       "Handgun                                   287\n",
       "Firearm Other                              93\n",
       "Blunt Object/Striking Implement            91\n",
       "Club, Blackjack, Brass Knuckles            48\n",
       "Firearm                                    44\n",
       "Mace/Pepper Spray                          31\n",
       "Other Firearm                              26\n",
       "Firearm (unk type)                         15\n",
       "Taser/Stun Gun                             10\n",
       "Club                                        9\n",
       "None/Not Applicable                         9\n",
       "Fire/Incendiary Device                      7\n",
       "Rifle                                       6\n",
       "Shotgun                                     3\n",
       "Automatic Handgun                           2\n",
       "Personal Weapons (hands, feet, etc.)        2\n",
       "Blackjack                                   1\n",
       "Brass Knuckles                              1\n",
       "Name: Weapon Type, dtype: int64"
      ]
     },
     "execution_count": 11,
     "metadata": {},
     "output_type": "execute_result"
    }
   ],
   "source": [
    "df['Weapon Type'].value_counts()"
   ]
  },
  {
   "cell_type": "code",
   "execution_count": 12,
   "id": "77133575",
   "metadata": {},
   "outputs": [],
   "source": [
    "df.loc[df['Weapon Type'] == 'None', 'Weapon'] = 0\n",
    "df.loc[df['Weapon Type'] != 'None', 'Weapon'] = 1\n",
    "df.loc[df['Weapon Type'] == '-', 'Weapon'] = 0"
   ]
  },
  {
   "cell_type": "code",
   "execution_count": 13,
   "id": "42eba06f",
   "metadata": {},
   "outputs": [],
   "source": [
    "df.drop(columns=['Weapon Type'], inplace=True)"
   ]
  },
  {
   "cell_type": "code",
   "execution_count": 14,
   "id": "d3838f20",
   "metadata": {},
   "outputs": [
    {
     "data": {
      "text/plain": [
       "0.0    44077\n",
       "1.0     2835\n",
       "Name: Weapon, dtype: int64"
      ]
     },
     "execution_count": 14,
     "metadata": {},
     "output_type": "execute_result"
    }
   ],
   "source": [
    "df['Weapon'].value_counts()"
   ]
  },
  {
   "cell_type": "markdown",
   "id": "0e932c96",
   "metadata": {},
   "source": [
    "#### Officer YOB"
   ]
  },
  {
   "cell_type": "markdown",
   "id": "c1c632d4",
   "metadata": {},
   "source": [
    "I chose to bin the data based on generation to simplify categorization."
   ]
  },
  {
   "cell_type": "code",
   "execution_count": 15,
   "id": "116539ed",
   "metadata": {},
   "outputs": [
    {
     "data": {
      "text/plain": [
       "1986    3280\n",
       "1987    2969\n",
       "1984    2703\n",
       "1991    2671\n",
       "1992    2456\n",
       "1985    2445\n",
       "1990    2295\n",
       "1988    2135\n",
       "1989    2026\n",
       "1982    1837\n",
       "1983    1685\n",
       "1979    1498\n",
       "1993    1498\n",
       "1981    1417\n",
       "1995    1272\n",
       "1971    1184\n",
       "1978    1145\n",
       "1976    1007\n",
       "1977     998\n",
       "1994     920\n",
       "1973     906\n",
       "1980     814\n",
       "1996     706\n",
       "1967     705\n",
       "1968     590\n",
       "1970     564\n",
       "1969     549\n",
       "1974     535\n",
       "1975     523\n",
       "1997     472\n",
       "1962     449\n",
       "1964     432\n",
       "1972     414\n",
       "1965     412\n",
       "1963     236\n",
       "1958     215\n",
       "1961     206\n",
       "1966     180\n",
       "1959     167\n",
       "1960     128\n",
       "1998      57\n",
       "1954      44\n",
       "1957      43\n",
       "1953      33\n",
       "1900      31\n",
       "1955      21\n",
       "1956      17\n",
       "1948      10\n",
       "1949       5\n",
       "1952       4\n",
       "1946       2\n",
       "1951       1\n",
       "Name: Officer YOB, dtype: int64"
      ]
     },
     "execution_count": 15,
     "metadata": {},
     "output_type": "execute_result"
    }
   ],
   "source": [
    "df['Officer YOB'].value_counts()"
   ]
  },
  {
   "cell_type": "code",
   "execution_count": 16,
   "id": "fc6491ce",
   "metadata": {},
   "outputs": [],
   "source": [
    "df['Officer Age Group'] = pd.cut(df['Officer YOB'],[1899, 1945, 1964, 1980, 1997, 2000], labels = ['Pre-Boomer','Baby Boomer', 'Gen X', 'Millenial', 'Gen Z'])"
   ]
  },
  {
   "cell_type": "code",
   "execution_count": 17,
   "id": "bfbbbfe1",
   "metadata": {},
   "outputs": [
    {
     "data": {
      "text/plain": [
       "Millenial      32787\n",
       "Gen X          12024\n",
       "Baby Boomer     2013\n",
       "Gen Z             57\n",
       "Pre-Boomer        31\n",
       "Name: Officer Age Group, dtype: int64"
      ]
     },
     "execution_count": 17,
     "metadata": {},
     "output_type": "execute_result"
    }
   ],
   "source": [
    "df['Officer Age Group'].value_counts()"
   ]
  },
  {
   "cell_type": "code",
   "execution_count": 18,
   "id": "21d3588c",
   "metadata": {},
   "outputs": [],
   "source": [
    "df.drop(columns=['Officer YOB'], inplace=True)"
   ]
  },
  {
   "cell_type": "markdown",
   "id": "40420f89",
   "metadata": {},
   "source": [
    "#### Officer Gender"
   ]
  },
  {
   "cell_type": "markdown",
   "id": "f88bc908",
   "metadata": {},
   "source": [
    "Convert to 1/0 binary where 1 = male and 0 = female."
   ]
  },
  {
   "cell_type": "code",
   "execution_count": 19,
   "id": "a26a65e4",
   "metadata": {},
   "outputs": [],
   "source": [
    "df['Officer Gender'].replace('F', '0', inplace=True)\n",
    "df['Officer Gender'].replace('M', '1', inplace=True)\n",
    "df['Officer Gender'].replace('N', '0', inplace=True)"
   ]
  },
  {
   "cell_type": "code",
   "execution_count": 20,
   "id": "88ca6176",
   "metadata": {},
   "outputs": [
    {
     "data": {
      "text/plain": [
       "1    41503\n",
       "0     5409\n",
       "Name: Officer Gender, dtype: int64"
      ]
     },
     "execution_count": 20,
     "metadata": {},
     "output_type": "execute_result"
    }
   ],
   "source": [
    "df['Officer Gender'].value_counts()"
   ]
  },
  {
   "cell_type": "markdown",
   "id": "ec136597",
   "metadata": {},
   "source": [
    "#### Officer Race, Subject Perceived Race, and Subject Perceived Gender"
   ]
  },
  {
   "cell_type": "markdown",
   "id": "4a95bcc6",
   "metadata": {},
   "source": [
    "Each of these features are using multiple responses to classify unknown or not reported data. For each feature, I have condensed categories to use a single category for unknown values."
   ]
  },
  {
   "cell_type": "code",
   "execution_count": 21,
   "id": "6c6fa321",
   "metadata": {
    "scrolled": true
   },
   "outputs": [
    {
     "data": {
      "text/plain": [
       "White                            35429\n",
       "Two or More Races                 2715\n",
       "Hispanic or Latino                2701\n",
       "Asian                             2020\n",
       "Black or African American         1803\n",
       "Not Specified                     1460\n",
       "Nat Hawaiian/Oth Pac Islander      440\n",
       "American Indian/Alaska Native      313\n",
       "Unknown                             31\n",
       "Name: Officer Race, dtype: int64"
      ]
     },
     "execution_count": 21,
     "metadata": {},
     "output_type": "execute_result"
    }
   ],
   "source": [
    "df['Officer Race'].value_counts()"
   ]
  },
  {
   "cell_type": "code",
   "execution_count": 22,
   "id": "a2345572",
   "metadata": {},
   "outputs": [],
   "source": [
    "df['Officer Race'].replace('Unknown', 'Not Specified', inplace=True)"
   ]
  },
  {
   "cell_type": "code",
   "execution_count": 23,
   "id": "02603157",
   "metadata": {},
   "outputs": [
    {
     "data": {
      "text/plain": [
       "White                                        23273\n",
       "Black or African American                    14062\n",
       "Unknown                                       2506\n",
       "Hispanic                                      1659\n",
       "Asian                                         1558\n",
       "-                                             1471\n",
       "American Indian or Alaska Native              1365\n",
       "Multi-Racial                                   801\n",
       "Other                                          150\n",
       "Native Hawaiian or Other Pacific Islander       67\n",
       "Name: Subject Perceived Race, dtype: int64"
      ]
     },
     "execution_count": 23,
     "metadata": {},
     "output_type": "execute_result"
    }
   ],
   "source": [
    "df['Subject Perceived Race'].value_counts()"
   ]
  },
  {
   "cell_type": "code",
   "execution_count": 24,
   "id": "03a4573e",
   "metadata": {},
   "outputs": [],
   "source": [
    "df['Subject Perceived Race'].replace('-', 'Unknown', inplace=True)"
   ]
  },
  {
   "cell_type": "code",
   "execution_count": 25,
   "id": "9a936aa3",
   "metadata": {},
   "outputs": [
    {
     "data": {
      "text/plain": [
       "Male                                                         37210\n",
       "Female                                                        9553\n",
       "Unable to Determine                                            108\n",
       "Unknown                                                         19\n",
       "-                                                               16\n",
       "Gender Diverse (gender non-conforming and/or transgender)        6\n",
       "Name: Subject Perceived Gender, dtype: int64"
      ]
     },
     "execution_count": 25,
     "metadata": {},
     "output_type": "execute_result"
    }
   ],
   "source": [
    "df['Subject Perceived Gender'].value_counts()"
   ]
  },
  {
   "cell_type": "code",
   "execution_count": 26,
   "id": "68f7bd89",
   "metadata": {},
   "outputs": [],
   "source": [
    "df['Subject Perceived Gender'].replace('-', 'Unknown', inplace=True)"
   ]
  },
  {
   "cell_type": "markdown",
   "id": "f24dcf16",
   "metadata": {},
   "source": [
    "#### Reported Date"
   ]
  },
  {
   "cell_type": "markdown",
   "id": "61e4e696",
   "metadata": {},
   "source": [
    "Using this column I engineer several features -- year, day of the week, and month -- to help track trends over time."
   ]
  },
  {
   "cell_type": "code",
   "execution_count": 27,
   "id": "2a4cd28b",
   "metadata": {},
   "outputs": [],
   "source": [
    "#convert column to datetime to allow date-based calculations\n",
    "df['Reported Date'] = pd.to_datetime(df['Reported Date'])"
   ]
  },
  {
   "cell_type": "code",
   "execution_count": 28,
   "id": "822891cf",
   "metadata": {},
   "outputs": [],
   "source": [
    "#create day of week column and map numeric values to day names\n",
    "day_map={0: 'Monday', 1: 'Tuesday', 2: 'Wednesday', 3: 'Thursday', 4: 'Friday',5: 'Saturday', 6: 'Sunday'} \n",
    "df['Day of Week']=df['Reported Date'].dt.weekday.map(day_map)\n",
    "\n",
    "#create year column\n",
    "df['Year'] = df['Reported Date'].dt.year\n",
    "\n",
    "#create month column and map numeric values to month names\n",
    "month_map = {1: 'January', 2: 'February', 3: 'March', 4: 'April', 5: 'May', 6: 'June', \n",
    "             7: 'July', 8: 'August', 9: 'September', 10: 'October', 11: 'November', 12: 'December'}\n",
    "df['Month'] = df['Reported Date'].dt.month.map(month_map)"
   ]
  },
  {
   "cell_type": "code",
   "execution_count": 29,
   "id": "2cb54531",
   "metadata": {},
   "outputs": [],
   "source": [
    "df.drop(columns='Reported Date', inplace=True)"
   ]
  },
  {
   "cell_type": "markdown",
   "id": "e3d791f6",
   "metadata": {},
   "source": [
    "#### Call Type"
   ]
  },
  {
   "cell_type": "code",
   "execution_count": 30,
   "id": "6af30672",
   "metadata": {},
   "outputs": [
    {
     "data": {
      "text/plain": [
       "911                              21400\n",
       "-                                12773\n",
       "ONVIEW                            9072\n",
       "TELEPHONE OTHER, NOT 911          3311\n",
       "ALARM CALL (NOT POLICE ALARM)      346\n",
       "TEXT MESSAGE                         9\n",
       "SCHEDULED EVENT (RECURRING)          1\n",
       "Name: Call Type, dtype: int64"
      ]
     },
     "execution_count": 30,
     "metadata": {},
     "output_type": "execute_result"
    }
   ],
   "source": [
    "df['Call Type'].value_counts()"
   ]
  },
  {
   "cell_type": "code",
   "execution_count": 31,
   "id": "26845f0d",
   "metadata": {},
   "outputs": [],
   "source": [
    "df['Call Type'].replace('-', 'No Call', inplace=True)\n",
    "df['Call Type'].replace('ALARM CALL (NOT POLICE ALARM)', 'Other Call (Not 911)', inplace=True)\n",
    "df['Call Type'].replace('TEXT MESSAGE', 'Other Call (Not 911)', inplace=True)\n",
    "df['Call Type'].replace('SCHEDULED EVENT (RECURRING)', 'Other Call (Not 911)', inplace=True)\n",
    "df['Call Type'].replace('TELEPHONE OTHER, NOT 911', 'Other Call (Not 911)', inplace=True)"
   ]
  },
  {
   "cell_type": "markdown",
   "id": "0d519c35",
   "metadata": {},
   "source": [
    "#### Precinct"
   ]
  },
  {
   "cell_type": "code",
   "execution_count": 32,
   "id": "41360c6c",
   "metadata": {},
   "outputs": [
    {
     "data": {
      "text/plain": [
       "West         11578\n",
       "North        10341\n",
       "-             9544\n",
       "East          6194\n",
       "South         5601\n",
       "Southwest     2244\n",
       "SouthWest     1171\n",
       "Unknown        183\n",
       "OOJ             35\n",
       "FK ERROR        21\n",
       "Name: Precinct, dtype: int64"
      ]
     },
     "execution_count": 32,
     "metadata": {},
     "output_type": "execute_result"
    }
   ],
   "source": [
    "df['Precinct'].value_counts()"
   ]
  },
  {
   "cell_type": "code",
   "execution_count": 33,
   "id": "97b2f4f7",
   "metadata": {},
   "outputs": [],
   "source": [
    "df['Precinct'].replace('-', 'Unknown', inplace=True)\n",
    "df['Precinct'].replace('SouthWest', 'Southwest', inplace=True)"
   ]
  },
  {
   "cell_type": "code",
   "execution_count": 34,
   "id": "ed8bb27c",
   "metadata": {},
   "outputs": [],
   "source": [
    "df = df[df['Precinct'] != 'OOJ']"
   ]
  },
  {
   "cell_type": "code",
   "execution_count": 35,
   "id": "43a4bd1d",
   "metadata": {},
   "outputs": [],
   "source": [
    "df = df[df['Precinct'] != 'FK ERROR']"
   ]
  },
  {
   "cell_type": "markdown",
   "id": "2e26cdec",
   "metadata": {},
   "source": [
    "#### Review Updated Data"
   ]
  },
  {
   "cell_type": "markdown",
   "id": "74a6d2a3",
   "metadata": {},
   "source": [
    "At this point, I believe the data is clean enough to begin the base model."
   ]
  },
  {
   "cell_type": "code",
   "execution_count": 36,
   "id": "e5251a42",
   "metadata": {},
   "outputs": [
    {
     "data": {
      "text/html": [
       "<div>\n",
       "<style scoped>\n",
       "    .dataframe tbody tr th:only-of-type {\n",
       "        vertical-align: middle;\n",
       "    }\n",
       "\n",
       "    .dataframe tbody tr th {\n",
       "        vertical-align: top;\n",
       "    }\n",
       "\n",
       "    .dataframe thead th {\n",
       "        text-align: right;\n",
       "    }\n",
       "</style>\n",
       "<table border=\"1\" class=\"dataframe\">\n",
       "  <thead>\n",
       "    <tr style=\"text-align: right;\">\n",
       "      <th></th>\n",
       "      <th>Subject Age Group</th>\n",
       "      <th>Subject ID</th>\n",
       "      <th>Stop Resolution</th>\n",
       "      <th>Officer ID</th>\n",
       "      <th>Officer Gender</th>\n",
       "      <th>Officer Race</th>\n",
       "      <th>Subject Perceived Race</th>\n",
       "      <th>Subject Perceived Gender</th>\n",
       "      <th>Call Type</th>\n",
       "      <th>Precinct</th>\n",
       "      <th>Actionable Stop</th>\n",
       "      <th>Weapon</th>\n",
       "      <th>Officer Age Group</th>\n",
       "      <th>Day of Week</th>\n",
       "      <th>Year</th>\n",
       "      <th>Month</th>\n",
       "    </tr>\n",
       "  </thead>\n",
       "  <tbody>\n",
       "    <tr>\n",
       "      <th>0</th>\n",
       "      <td>26 - 35</td>\n",
       "      <td>0</td>\n",
       "      <td>No Action</td>\n",
       "      <td>7595</td>\n",
       "      <td>1</td>\n",
       "      <td>White</td>\n",
       "      <td>Asian</td>\n",
       "      <td>Male</td>\n",
       "      <td>No Call</td>\n",
       "      <td>Unknown</td>\n",
       "      <td>0.0</td>\n",
       "      <td>0.0</td>\n",
       "      <td>Gen X</td>\n",
       "      <td>Friday</td>\n",
       "      <td>2015</td>\n",
       "      <td>April</td>\n",
       "    </tr>\n",
       "    <tr>\n",
       "      <th>1218</th>\n",
       "      <td>1 - 17</td>\n",
       "      <td>0</td>\n",
       "      <td>No Action</td>\n",
       "      <td>7726</td>\n",
       "      <td>1</td>\n",
       "      <td>White</td>\n",
       "      <td>White</td>\n",
       "      <td>Female</td>\n",
       "      <td>No Call</td>\n",
       "      <td>Unknown</td>\n",
       "      <td>0.0</td>\n",
       "      <td>0.0</td>\n",
       "      <td>Millenial</td>\n",
       "      <td>Sunday</td>\n",
       "      <td>2015</td>\n",
       "      <td>May</td>\n",
       "    </tr>\n",
       "    <tr>\n",
       "      <th>1598</th>\n",
       "      <td>1 - 17</td>\n",
       "      <td>0</td>\n",
       "      <td>Arrest</td>\n",
       "      <td>7715</td>\n",
       "      <td>1</td>\n",
       "      <td>White</td>\n",
       "      <td>American Indian or Alaska Native</td>\n",
       "      <td>Male</td>\n",
       "      <td>No Call</td>\n",
       "      <td>East</td>\n",
       "      <td>1.0</td>\n",
       "      <td>0.0</td>\n",
       "      <td>Millenial</td>\n",
       "      <td>Sunday</td>\n",
       "      <td>2015</td>\n",
       "      <td>September</td>\n",
       "    </tr>\n",
       "    <tr>\n",
       "      <th>1599</th>\n",
       "      <td>1 - 17</td>\n",
       "      <td>0</td>\n",
       "      <td>No Action</td>\n",
       "      <td>7745</td>\n",
       "      <td>0</td>\n",
       "      <td>Not Specified</td>\n",
       "      <td>Unknown</td>\n",
       "      <td>Male</td>\n",
       "      <td>No Call</td>\n",
       "      <td>Unknown</td>\n",
       "      <td>0.0</td>\n",
       "      <td>0.0</td>\n",
       "      <td>Millenial</td>\n",
       "      <td>Sunday</td>\n",
       "      <td>2015</td>\n",
       "      <td>April</td>\n",
       "    </tr>\n",
       "    <tr>\n",
       "      <th>1600</th>\n",
       "      <td>1 - 17</td>\n",
       "      <td>0</td>\n",
       "      <td>No Action</td>\n",
       "      <td>7634</td>\n",
       "      <td>1</td>\n",
       "      <td>White</td>\n",
       "      <td>Black or African American</td>\n",
       "      <td>Male</td>\n",
       "      <td>No Call</td>\n",
       "      <td>Unknown</td>\n",
       "      <td>0.0</td>\n",
       "      <td>0.0</td>\n",
       "      <td>Gen X</td>\n",
       "      <td>Sunday</td>\n",
       "      <td>2015</td>\n",
       "      <td>April</td>\n",
       "    </tr>\n",
       "  </tbody>\n",
       "</table>\n",
       "</div>"
      ],
      "text/plain": [
       "     Subject Age Group  Subject ID Stop Resolution Officer ID Officer Gender  \\\n",
       "0              26 - 35           0       No Action     7595                1   \n",
       "1218            1 - 17           0       No Action     7726                1   \n",
       "1598            1 - 17           0          Arrest     7715                1   \n",
       "1599            1 - 17           0       No Action     7745                0   \n",
       "1600            1 - 17           0       No Action     7634                1   \n",
       "\n",
       "       Officer Race            Subject Perceived Race  \\\n",
       "0             White                             Asian   \n",
       "1218          White                             White   \n",
       "1598          White  American Indian or Alaska Native   \n",
       "1599  Not Specified                           Unknown   \n",
       "1600          White         Black or African American   \n",
       "\n",
       "     Subject Perceived Gender Call Type Precinct  Actionable Stop  Weapon  \\\n",
       "0                        Male   No Call  Unknown              0.0     0.0   \n",
       "1218                   Female   No Call  Unknown              0.0     0.0   \n",
       "1598                     Male   No Call     East              1.0     0.0   \n",
       "1599                     Male   No Call  Unknown              0.0     0.0   \n",
       "1600                     Male   No Call  Unknown              0.0     0.0   \n",
       "\n",
       "     Officer Age Group Day of Week  Year      Month  \n",
       "0                Gen X      Friday  2015      April  \n",
       "1218         Millenial      Sunday  2015        May  \n",
       "1598         Millenial      Sunday  2015  September  \n",
       "1599         Millenial      Sunday  2015      April  \n",
       "1600             Gen X      Sunday  2015      April  "
      ]
     },
     "execution_count": 36,
     "metadata": {},
     "output_type": "execute_result"
    }
   ],
   "source": [
    "df.head()"
   ]
  },
  {
   "cell_type": "code",
   "execution_count": 37,
   "id": "3ee00eea",
   "metadata": {},
   "outputs": [
    {
     "name": "stdout",
     "output_type": "stream",
     "text": [
      "<class 'pandas.core.frame.DataFrame'>\n",
      "Int64Index: 46856 entries, 0 to 48507\n",
      "Data columns (total 16 columns):\n",
      " #   Column                    Non-Null Count  Dtype   \n",
      "---  ------                    --------------  -----   \n",
      " 0   Subject Age Group         46856 non-null  object  \n",
      " 1   Subject ID                46856 non-null  int64   \n",
      " 2   Stop Resolution           46856 non-null  object  \n",
      " 3   Officer ID                46856 non-null  object  \n",
      " 4   Officer Gender            46856 non-null  object  \n",
      " 5   Officer Race              46856 non-null  object  \n",
      " 6   Subject Perceived Race    46856 non-null  object  \n",
      " 7   Subject Perceived Gender  46856 non-null  object  \n",
      " 8   Call Type                 46856 non-null  object  \n",
      " 9   Precinct                  46856 non-null  object  \n",
      " 10  Actionable Stop           46856 non-null  float64 \n",
      " 11  Weapon                    46856 non-null  float64 \n",
      " 12  Officer Age Group         46856 non-null  category\n",
      " 13  Day of Week               46856 non-null  object  \n",
      " 14  Year                      46856 non-null  int64   \n",
      " 15  Month                     46856 non-null  object  \n",
      "dtypes: category(1), float64(2), int64(2), object(11)\n",
      "memory usage: 5.8+ MB\n"
     ]
    }
   ],
   "source": [
    "df.info()"
   ]
  },
  {
   "cell_type": "code",
   "execution_count": 38,
   "id": "5f95980a",
   "metadata": {},
   "outputs": [],
   "source": [
    "df.drop(columns=['Officer ID', 'Precinct'], inplace=True)"
   ]
  },
  {
   "cell_type": "code",
   "execution_count": 39,
   "id": "58c16e82",
   "metadata": {},
   "outputs": [],
   "source": [
    "#save updated data to csv file\n",
    "df.to_csv('Cleaned Data.csv')"
   ]
  },
  {
   "cell_type": "code",
   "execution_count": 40,
   "id": "a69673da",
   "metadata": {},
   "outputs": [
    {
     "ename": "KeyError",
     "evalue": "'Officer ID'",
     "output_type": "error",
     "traceback": [
      "\u001b[1;31m---------------------------------------------------------------------------\u001b[0m",
      "\u001b[1;31mKeyError\u001b[0m                                  Traceback (most recent call last)",
      "\u001b[1;32m~\\anaconda3\\lib\\site-packages\\pandas\\core\\indexes\\base.py\u001b[0m in \u001b[0;36mget_loc\u001b[1;34m(self, key, method, tolerance)\u001b[0m\n\u001b[0;32m   3079\u001b[0m             \u001b[1;32mtry\u001b[0m\u001b[1;33m:\u001b[0m\u001b[1;33m\u001b[0m\u001b[1;33m\u001b[0m\u001b[0m\n\u001b[1;32m-> 3080\u001b[1;33m                 \u001b[1;32mreturn\u001b[0m \u001b[0mself\u001b[0m\u001b[1;33m.\u001b[0m\u001b[0m_engine\u001b[0m\u001b[1;33m.\u001b[0m\u001b[0mget_loc\u001b[0m\u001b[1;33m(\u001b[0m\u001b[0mcasted_key\u001b[0m\u001b[1;33m)\u001b[0m\u001b[1;33m\u001b[0m\u001b[1;33m\u001b[0m\u001b[0m\n\u001b[0m\u001b[0;32m   3081\u001b[0m             \u001b[1;32mexcept\u001b[0m \u001b[0mKeyError\u001b[0m \u001b[1;32mas\u001b[0m \u001b[0merr\u001b[0m\u001b[1;33m:\u001b[0m\u001b[1;33m\u001b[0m\u001b[1;33m\u001b[0m\u001b[0m\n",
      "\u001b[1;32mpandas\\_libs\\index.pyx\u001b[0m in \u001b[0;36mpandas._libs.index.IndexEngine.get_loc\u001b[1;34m()\u001b[0m\n",
      "\u001b[1;32mpandas\\_libs\\index.pyx\u001b[0m in \u001b[0;36mpandas._libs.index.IndexEngine.get_loc\u001b[1;34m()\u001b[0m\n",
      "\u001b[1;32mpandas\\_libs\\hashtable_class_helper.pxi\u001b[0m in \u001b[0;36mpandas._libs.hashtable.PyObjectHashTable.get_item\u001b[1;34m()\u001b[0m\n",
      "\u001b[1;32mpandas\\_libs\\hashtable_class_helper.pxi\u001b[0m in \u001b[0;36mpandas._libs.hashtable.PyObjectHashTable.get_item\u001b[1;34m()\u001b[0m\n",
      "\u001b[1;31mKeyError\u001b[0m: 'Officer ID'",
      "\nThe above exception was the direct cause of the following exception:\n",
      "\u001b[1;31mKeyError\u001b[0m                                  Traceback (most recent call last)",
      "\u001b[1;32m<ipython-input-40-677780ee3dc4>\u001b[0m in \u001b[0;36m<module>\u001b[1;34m\u001b[0m\n\u001b[1;32m----> 1\u001b[1;33m \u001b[0mdf\u001b[0m \u001b[1;33m=\u001b[0m \u001b[0mdf\u001b[0m\u001b[1;33m.\u001b[0m\u001b[0mloc\u001b[0m\u001b[1;33m[\u001b[0m\u001b[0mdf\u001b[0m\u001b[1;33m[\u001b[0m\u001b[1;34m'Officer ID'\u001b[0m\u001b[1;33m]\u001b[0m \u001b[1;33m!=\u001b[0m \u001b[1;34m'-'\u001b[0m\u001b[1;33m]\u001b[0m\u001b[1;33m\u001b[0m\u001b[1;33m\u001b[0m\u001b[0m\n\u001b[0m\u001b[0;32m      2\u001b[0m \u001b[0mdf\u001b[0m \u001b[1;33m=\u001b[0m \u001b[0mdf\u001b[0m\u001b[1;33m.\u001b[0m\u001b[0mloc\u001b[0m\u001b[1;33m[\u001b[0m\u001b[0mdf\u001b[0m\u001b[1;33m[\u001b[0m\u001b[1;34m'Officer ID'\u001b[0m\u001b[1;33m]\u001b[0m \u001b[1;33m!=\u001b[0m \u001b[1;34m'-9'\u001b[0m\u001b[1;33m]\u001b[0m\u001b[1;33m\u001b[0m\u001b[1;33m\u001b[0m\u001b[0m\n\u001b[0;32m      3\u001b[0m \u001b[1;31m#df = df.loc[df['Precinct'] != 'Unknown']\u001b[0m\u001b[1;33m\u001b[0m\u001b[1;33m\u001b[0m\u001b[1;33m\u001b[0m\u001b[0m\n",
      "\u001b[1;32m~\\anaconda3\\lib\\site-packages\\pandas\\core\\frame.py\u001b[0m in \u001b[0;36m__getitem__\u001b[1;34m(self, key)\u001b[0m\n\u001b[0;32m   3022\u001b[0m             \u001b[1;32mif\u001b[0m \u001b[0mself\u001b[0m\u001b[1;33m.\u001b[0m\u001b[0mcolumns\u001b[0m\u001b[1;33m.\u001b[0m\u001b[0mnlevels\u001b[0m \u001b[1;33m>\u001b[0m \u001b[1;36m1\u001b[0m\u001b[1;33m:\u001b[0m\u001b[1;33m\u001b[0m\u001b[1;33m\u001b[0m\u001b[0m\n\u001b[0;32m   3023\u001b[0m                 \u001b[1;32mreturn\u001b[0m \u001b[0mself\u001b[0m\u001b[1;33m.\u001b[0m\u001b[0m_getitem_multilevel\u001b[0m\u001b[1;33m(\u001b[0m\u001b[0mkey\u001b[0m\u001b[1;33m)\u001b[0m\u001b[1;33m\u001b[0m\u001b[1;33m\u001b[0m\u001b[0m\n\u001b[1;32m-> 3024\u001b[1;33m             \u001b[0mindexer\u001b[0m \u001b[1;33m=\u001b[0m \u001b[0mself\u001b[0m\u001b[1;33m.\u001b[0m\u001b[0mcolumns\u001b[0m\u001b[1;33m.\u001b[0m\u001b[0mget_loc\u001b[0m\u001b[1;33m(\u001b[0m\u001b[0mkey\u001b[0m\u001b[1;33m)\u001b[0m\u001b[1;33m\u001b[0m\u001b[1;33m\u001b[0m\u001b[0m\n\u001b[0m\u001b[0;32m   3025\u001b[0m             \u001b[1;32mif\u001b[0m \u001b[0mis_integer\u001b[0m\u001b[1;33m(\u001b[0m\u001b[0mindexer\u001b[0m\u001b[1;33m)\u001b[0m\u001b[1;33m:\u001b[0m\u001b[1;33m\u001b[0m\u001b[1;33m\u001b[0m\u001b[0m\n\u001b[0;32m   3026\u001b[0m                 \u001b[0mindexer\u001b[0m \u001b[1;33m=\u001b[0m \u001b[1;33m[\u001b[0m\u001b[0mindexer\u001b[0m\u001b[1;33m]\u001b[0m\u001b[1;33m\u001b[0m\u001b[1;33m\u001b[0m\u001b[0m\n",
      "\u001b[1;32m~\\anaconda3\\lib\\site-packages\\pandas\\core\\indexes\\base.py\u001b[0m in \u001b[0;36mget_loc\u001b[1;34m(self, key, method, tolerance)\u001b[0m\n\u001b[0;32m   3080\u001b[0m                 \u001b[1;32mreturn\u001b[0m \u001b[0mself\u001b[0m\u001b[1;33m.\u001b[0m\u001b[0m_engine\u001b[0m\u001b[1;33m.\u001b[0m\u001b[0mget_loc\u001b[0m\u001b[1;33m(\u001b[0m\u001b[0mcasted_key\u001b[0m\u001b[1;33m)\u001b[0m\u001b[1;33m\u001b[0m\u001b[1;33m\u001b[0m\u001b[0m\n\u001b[0;32m   3081\u001b[0m             \u001b[1;32mexcept\u001b[0m \u001b[0mKeyError\u001b[0m \u001b[1;32mas\u001b[0m \u001b[0merr\u001b[0m\u001b[1;33m:\u001b[0m\u001b[1;33m\u001b[0m\u001b[1;33m\u001b[0m\u001b[0m\n\u001b[1;32m-> 3082\u001b[1;33m                 \u001b[1;32mraise\u001b[0m \u001b[0mKeyError\u001b[0m\u001b[1;33m(\u001b[0m\u001b[0mkey\u001b[0m\u001b[1;33m)\u001b[0m \u001b[1;32mfrom\u001b[0m \u001b[0merr\u001b[0m\u001b[1;33m\u001b[0m\u001b[1;33m\u001b[0m\u001b[0m\n\u001b[0m\u001b[0;32m   3083\u001b[0m \u001b[1;33m\u001b[0m\u001b[0m\n\u001b[0;32m   3084\u001b[0m         \u001b[1;32mif\u001b[0m \u001b[0mtolerance\u001b[0m \u001b[1;32mis\u001b[0m \u001b[1;32mnot\u001b[0m \u001b[1;32mNone\u001b[0m\u001b[1;33m:\u001b[0m\u001b[1;33m\u001b[0m\u001b[1;33m\u001b[0m\u001b[0m\n",
      "\u001b[1;31mKeyError\u001b[0m: 'Officer ID'"
     ]
    }
   ],
   "source": [
    "df = df.loc[df['Officer ID'] != '-']\n",
    "df = df.loc[df['Officer ID'] != '-9']\n",
    "#df = df.loc[df['Precinct'] != 'Unknown']"
   ]
  },
  {
   "cell_type": "code",
   "execution_count": null,
   "id": "25113d23",
   "metadata": {},
   "outputs": [],
   "source": [
    "precinct_df = df.loc[:, ['Officer ID', 'Precinct']]"
   ]
  },
  {
   "cell_type": "code",
   "execution_count": null,
   "id": "53a078cf",
   "metadata": {},
   "outputs": [],
   "source": [
    "precinct_df.sort_values('Officer ID')"
   ]
  },
  {
   "cell_type": "code",
   "execution_count": null,
   "id": "15ef08af",
   "metadata": {},
   "outputs": [],
   "source": [
    "precinct_df['Precinct'].replace('Unknown', np.nan, inplace=True)"
   ]
  },
  {
   "cell_type": "code",
   "execution_count": null,
   "id": "ff8d5191",
   "metadata": {},
   "outputs": [],
   "source": [
    "precinct_df.info()"
   ]
  },
  {
   "cell_type": "code",
   "execution_count": null,
   "id": "d434d477",
   "metadata": {},
   "outputs": [],
   "source": [
    "df.info()"
   ]
  },
  {
   "cell_type": "code",
   "execution_count": null,
   "id": "1f391fbe",
   "metadata": {},
   "outputs": [],
   "source": []
  },
  {
   "cell_type": "code",
   "execution_count": null,
   "id": "ef6c8117",
   "metadata": {},
   "outputs": [],
   "source": []
  }
 ],
 "metadata": {
  "kernelspec": {
   "display_name": "Python 3",
   "language": "python",
   "name": "python3"
  },
  "language_info": {
   "codemirror_mode": {
    "name": "ipython",
    "version": 3
   },
   "file_extension": ".py",
   "mimetype": "text/x-python",
   "name": "python",
   "nbconvert_exporter": "python",
   "pygments_lexer": "ipython3",
   "version": "3.8.8"
  }
 },
 "nbformat": 4,
 "nbformat_minor": 5
}
