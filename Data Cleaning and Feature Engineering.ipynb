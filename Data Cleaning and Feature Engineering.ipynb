{
 "cells": [
  {
   "cell_type": "markdown",
   "id": "58dc9fc2",
   "metadata": {},
   "source": [
    "# Data Cleaning and Feature Engineering"
   ]
  },
  {
   "cell_type": "code",
   "execution_count": 1,
   "id": "3e51480c",
   "metadata": {},
   "outputs": [
    {
     "data": {
      "text/html": [
       "<div>\n",
       "<style scoped>\n",
       "    .dataframe tbody tr th:only-of-type {\n",
       "        vertical-align: middle;\n",
       "    }\n",
       "\n",
       "    .dataframe tbody tr th {\n",
       "        vertical-align: top;\n",
       "    }\n",
       "\n",
       "    .dataframe thead th {\n",
       "        text-align: right;\n",
       "    }\n",
       "</style>\n",
       "<table border=\"1\" class=\"dataframe\">\n",
       "  <thead>\n",
       "    <tr style=\"text-align: right;\">\n",
       "      <th></th>\n",
       "      <th>Subject Age Group</th>\n",
       "      <th>Subject ID</th>\n",
       "      <th>GO / SC Num</th>\n",
       "      <th>Terry Stop ID</th>\n",
       "      <th>Stop Resolution</th>\n",
       "      <th>Weapon Type</th>\n",
       "      <th>Officer ID</th>\n",
       "      <th>Officer YOB</th>\n",
       "      <th>Officer Gender</th>\n",
       "      <th>Officer Race</th>\n",
       "      <th>...</th>\n",
       "      <th>Reported Time</th>\n",
       "      <th>Initial Call Type</th>\n",
       "      <th>Final Call Type</th>\n",
       "      <th>Call Type</th>\n",
       "      <th>Officer Squad</th>\n",
       "      <th>Arrest Flag</th>\n",
       "      <th>Frisk Flag</th>\n",
       "      <th>Precinct</th>\n",
       "      <th>Sector</th>\n",
       "      <th>Beat</th>\n",
       "    </tr>\n",
       "  </thead>\n",
       "  <tbody>\n",
       "    <tr>\n",
       "      <th>0</th>\n",
       "      <td>26 - 35</td>\n",
       "      <td>-1</td>\n",
       "      <td>20150000001920</td>\n",
       "      <td>36224</td>\n",
       "      <td>Field Contact</td>\n",
       "      <td>None</td>\n",
       "      <td>7595</td>\n",
       "      <td>1978</td>\n",
       "      <td>M</td>\n",
       "      <td>White</td>\n",
       "      <td>...</td>\n",
       "      <td>05:17:00</td>\n",
       "      <td>-</td>\n",
       "      <td>-</td>\n",
       "      <td>-</td>\n",
       "      <td>NaN</td>\n",
       "      <td>N</td>\n",
       "      <td>N</td>\n",
       "      <td>-</td>\n",
       "      <td>-</td>\n",
       "      <td>-</td>\n",
       "    </tr>\n",
       "    <tr>\n",
       "      <th>1</th>\n",
       "      <td>-</td>\n",
       "      <td>-1</td>\n",
       "      <td>20140000120677</td>\n",
       "      <td>92317</td>\n",
       "      <td>Arrest</td>\n",
       "      <td>None</td>\n",
       "      <td>7500</td>\n",
       "      <td>1984</td>\n",
       "      <td>M</td>\n",
       "      <td>Black or African American</td>\n",
       "      <td>...</td>\n",
       "      <td>11:32:00</td>\n",
       "      <td>-</td>\n",
       "      <td>-</td>\n",
       "      <td>-</td>\n",
       "      <td>SOUTH PCT 1ST W - ROBERT</td>\n",
       "      <td>N</td>\n",
       "      <td>N</td>\n",
       "      <td>South</td>\n",
       "      <td>O</td>\n",
       "      <td>O2</td>\n",
       "    </tr>\n",
       "    <tr>\n",
       "      <th>2</th>\n",
       "      <td>-</td>\n",
       "      <td>-1</td>\n",
       "      <td>20150000001463</td>\n",
       "      <td>28806</td>\n",
       "      <td>Field Contact</td>\n",
       "      <td>None</td>\n",
       "      <td>5670</td>\n",
       "      <td>1965</td>\n",
       "      <td>M</td>\n",
       "      <td>White</td>\n",
       "      <td>...</td>\n",
       "      <td>07:59:00</td>\n",
       "      <td>-</td>\n",
       "      <td>-</td>\n",
       "      <td>-</td>\n",
       "      <td>NaN</td>\n",
       "      <td>N</td>\n",
       "      <td>N</td>\n",
       "      <td>-</td>\n",
       "      <td>-</td>\n",
       "      <td>-</td>\n",
       "    </tr>\n",
       "    <tr>\n",
       "      <th>3</th>\n",
       "      <td>-</td>\n",
       "      <td>-1</td>\n",
       "      <td>20150000001516</td>\n",
       "      <td>29599</td>\n",
       "      <td>Field Contact</td>\n",
       "      <td>None</td>\n",
       "      <td>4844</td>\n",
       "      <td>1961</td>\n",
       "      <td>M</td>\n",
       "      <td>White</td>\n",
       "      <td>...</td>\n",
       "      <td>19:12:00</td>\n",
       "      <td>-</td>\n",
       "      <td>-</td>\n",
       "      <td>-</td>\n",
       "      <td>NaN</td>\n",
       "      <td>N</td>\n",
       "      <td>-</td>\n",
       "      <td>-</td>\n",
       "      <td>-</td>\n",
       "      <td>-</td>\n",
       "    </tr>\n",
       "    <tr>\n",
       "      <th>4</th>\n",
       "      <td>-</td>\n",
       "      <td>-1</td>\n",
       "      <td>20150000001670</td>\n",
       "      <td>32260</td>\n",
       "      <td>Field Contact</td>\n",
       "      <td>None</td>\n",
       "      <td>7539</td>\n",
       "      <td>1963</td>\n",
       "      <td>M</td>\n",
       "      <td>White</td>\n",
       "      <td>...</td>\n",
       "      <td>04:55:00</td>\n",
       "      <td>-</td>\n",
       "      <td>-</td>\n",
       "      <td>-</td>\n",
       "      <td>NaN</td>\n",
       "      <td>N</td>\n",
       "      <td>N</td>\n",
       "      <td>-</td>\n",
       "      <td>-</td>\n",
       "      <td>-</td>\n",
       "    </tr>\n",
       "  </tbody>\n",
       "</table>\n",
       "<p>5 rows × 23 columns</p>\n",
       "</div>"
      ],
      "text/plain": [
       "  Subject Age Group  Subject ID     GO / SC Num  Terry Stop ID  \\\n",
       "0           26 - 35          -1  20150000001920          36224   \n",
       "1                 -          -1  20140000120677          92317   \n",
       "2                 -          -1  20150000001463          28806   \n",
       "3                 -          -1  20150000001516          29599   \n",
       "4                 -          -1  20150000001670          32260   \n",
       "\n",
       "  Stop Resolution Weapon Type Officer ID  Officer YOB Officer Gender  \\\n",
       "0   Field Contact        None     7595           1978              M   \n",
       "1          Arrest        None     7500           1984              M   \n",
       "2   Field Contact        None     5670           1965              M   \n",
       "3   Field Contact        None     4844           1961              M   \n",
       "4   Field Contact        None     7539           1963              M   \n",
       "\n",
       "                Officer Race  ... Reported Time Initial Call Type  \\\n",
       "0                      White  ...      05:17:00                 -   \n",
       "1  Black or African American  ...      11:32:00                 -   \n",
       "2                      White  ...      07:59:00                 -   \n",
       "3                      White  ...      19:12:00                 -   \n",
       "4                      White  ...      04:55:00                 -   \n",
       "\n",
       "  Final Call Type Call Type             Officer Squad Arrest Flag Frisk Flag  \\\n",
       "0               -         -                       NaN           N          N   \n",
       "1               -         -  SOUTH PCT 1ST W - ROBERT           N          N   \n",
       "2               -         -                       NaN           N          N   \n",
       "3               -         -                       NaN           N          -   \n",
       "4               -         -                       NaN           N          N   \n",
       "\n",
       "  Precinct  Sector    Beat  \n",
       "0        -       -       -  \n",
       "1    South  O       O2      \n",
       "2        -       -       -  \n",
       "3        -       -       -  \n",
       "4        -       -       -  \n",
       "\n",
       "[5 rows x 23 columns]"
      ]
     },
     "execution_count": 1,
     "metadata": {},
     "output_type": "execute_result"
    }
   ],
   "source": [
    "import pandas as pd\n",
    "import numpy as np\n",
    "\n",
    "import warnings\n",
    "warnings.filterwarnings('ignore')\n",
    "\n",
    "df=pd.read_csv('Data/Terry_Stops.csv')\n",
    "df.head()"
   ]
  },
  {
   "cell_type": "code",
   "execution_count": 3,
   "id": "130a2d55",
   "metadata": {},
   "outputs": [
    {
     "data": {
      "text/plain": [
       "Index(['Subject Age Group', 'Subject ID', 'GO / SC Num', 'Terry Stop ID',\n",
       "       'Stop Resolution', 'Weapon Type', 'Officer ID', 'Officer YOB',\n",
       "       'Officer Gender', 'Officer Race', 'Subject Perceived Race',\n",
       "       'Subject Perceived Gender', 'Reported Date', 'Reported Time',\n",
       "       'Initial Call Type', 'Final Call Type', 'Call Type', 'Officer Squad',\n",
       "       'Arrest Flag', 'Frisk Flag', 'Precinct', 'Sector', 'Beat'],\n",
       "      dtype='object')"
      ]
     },
     "execution_count": 3,
     "metadata": {},
     "output_type": "execute_result"
    }
   ],
   "source": [
    "df.columns"
   ]
  },
  {
   "cell_type": "code",
   "execution_count": 5,
   "id": "214589c2",
   "metadata": {},
   "outputs": [
    {
     "data": {
      "text/plain": [
       "26 - 35         16165\n",
       "36 - 45         10342\n",
       "18 - 25          9672\n",
       "46 - 55          6275\n",
       "56 and Above     2468\n",
       "1 - 17           1990\n",
       "-                1596\n",
       "Name: Subject Age Group, dtype: int64"
      ]
     },
     "metadata": {},
     "output_type": "display_data"
    },
    {
     "data": {
      "text/plain": [
       "-1              34782\n",
       " 7753260438        21\n",
       " 15595726686       19\n",
       " 8753759694        14\n",
       " 24059933088       13\n",
       "                ...  \n",
       " 25803761039        1\n",
       " 7729407367         1\n",
       " 9667835269         1\n",
       " 10569991555        1\n",
       " 19740561406        1\n",
       "Name: Subject ID, Length: 9942, dtype: int64"
      ]
     },
     "metadata": {},
     "output_type": "display_data"
    },
    {
     "data": {
      "text/plain": [
       "20150000190790    16\n",
       "20160000378750    16\n",
       "20180000134604    14\n",
       "20170000132836    13\n",
       "20190000441736    13\n",
       "                  ..\n",
       "20210000011113     1\n",
       "20210000097127     1\n",
       "20190000478198     1\n",
       "20180000078229     1\n",
       "20170000002771     1\n",
       "Name: GO / SC Num, Length: 38159, dtype: int64"
      ]
     },
     "metadata": {},
     "output_type": "display_data"
    },
    {
     "data": {
      "text/plain": [
       "13080077761    3\n",
       "19324329995    3\n",
       "15045077325    3\n",
       "19268585233    3\n",
       "21513366706    2\n",
       "              ..\n",
       "296282         1\n",
       "48477          1\n",
       "25901334625    1\n",
       "8670011654     1\n",
       "460799         1\n",
       "Name: Terry Stop ID, Length: 48463, dtype: int64"
      ]
     },
     "metadata": {},
     "output_type": "display_data"
    },
    {
     "data": {
      "text/plain": [
       "Field Contact               19705\n",
       "Offense Report              15856\n",
       "Arrest                      12039\n",
       "Referred for Prosecution      728\n",
       "Citation / Infraction         180\n",
       "Name: Stop Resolution, dtype: int64"
      ]
     },
     "metadata": {},
     "output_type": "display_data"
    },
    {
     "data": {
      "text/plain": [
       "None                                    32565\n",
       "-                                       13043\n",
       "Lethal Cutting Instrument                1482\n",
       "Knife/Cutting/Stabbing Instrument         707\n",
       "Handgun                                   300\n",
       "Firearm Other                             100\n",
       "Blunt Object/Striking Implement            93\n",
       "Club, Blackjack, Brass Knuckles            49\n",
       "Firearm                                    44\n",
       "Mace/Pepper Spray                          31\n",
       "Other Firearm                              27\n",
       "Firearm (unk type)                         15\n",
       "Taser/Stun Gun                             10\n",
       "Club                                        9\n",
       "None/Not Applicable                         9\n",
       "Fire/Incendiary Device                      8\n",
       "Rifle                                       7\n",
       "Shotgun                                     3\n",
       "Personal Weapons (hands, feet, etc.)        2\n",
       "Automatic Handgun                           2\n",
       "Blackjack                                   1\n",
       "Brass Knuckles                              1\n",
       "Name: Weapon Type, dtype: int64"
      ]
     },
     "metadata": {},
     "output_type": "display_data"
    },
    {
     "data": {
      "text/plain": [
       "7456      430\n",
       "7634      347\n",
       "7773      333\n",
       "7765      315\n",
       "7758      313\n",
       "         ... \n",
       "5699        1\n",
       "8777        1\n",
       "5162        1\n",
       "5689        1\n",
       "5856        1\n",
       "Name: Officer ID, Length: 1225, dtype: int64"
      ]
     },
     "metadata": {},
     "output_type": "display_data"
    },
    {
     "data": {
      "text/plain": [
       "1986    3383\n",
       "1987    3089\n",
       "1984    2800\n",
       "1991    2742\n",
       "1992    2557\n",
       "1985    2513\n",
       "1990    2346\n",
       "1988    2188\n",
       "1989    2052\n",
       "1982    1868\n",
       "1983    1743\n",
       "1979    1558\n",
       "1993    1517\n",
       "1981    1476\n",
       "1995    1307\n",
       "1971    1236\n",
       "1978    1177\n",
       "1976    1052\n",
       "1977    1030\n",
       "1994     963\n",
       "1973     933\n",
       "1980     839\n",
       "1996     729\n",
       "1967     721\n",
       "1968     632\n",
       "1970     612\n",
       "1969     568\n",
       "1974     565\n",
       "1975     539\n",
       "1997     486\n",
       "1962     457\n",
       "1964     439\n",
       "1972     429\n",
       "1965     420\n",
       "1963     262\n",
       "1966     228\n",
       "1958     220\n",
       "1961     215\n",
       "1959     174\n",
       "1960     161\n",
       "1998      60\n",
       "1954      44\n",
       "1957      43\n",
       "1900      35\n",
       "1953      34\n",
       "1955      21\n",
       "1956      17\n",
       "1948      11\n",
       "1952       9\n",
       "1949       5\n",
       "1946       2\n",
       "1951       1\n",
       "Name: Officer YOB, dtype: int64"
      ]
     },
     "metadata": {},
     "output_type": "display_data"
    },
    {
     "data": {
      "text/plain": [
       "M    42956\n",
       "F     5523\n",
       "N       29\n",
       "Name: Officer Gender, dtype: int64"
      ]
     },
     "metadata": {},
     "output_type": "display_data"
    },
    {
     "data": {
      "text/plain": [
       "White                            36511\n",
       "Hispanic or Latino                2826\n",
       "Two or More Races                 2787\n",
       "Asian                             2120\n",
       "Black or African American         1934\n",
       "Not Specified                     1513\n",
       "Nat Hawaiian/Oth Pac Islander      461\n",
       "American Indian/Alaska Native      321\n",
       "Unknown                             35\n",
       "Name: Officer Race, dtype: int64"
      ]
     },
     "metadata": {},
     "output_type": "display_data"
    },
    {
     "data": {
      "text/plain": [
       "White                                        23705\n",
       "Black or African American                    14461\n",
       "Unknown                                       2792\n",
       "-                                             1851\n",
       "Hispanic                                      1684\n",
       "Asian                                         1593\n",
       "American Indian or Alaska Native              1392\n",
       "Multi-Racial                                   809\n",
       "Other                                          152\n",
       "Native Hawaiian or Other Pacific Islander       69\n",
       "Name: Subject Perceived Race, dtype: int64"
      ]
     },
     "metadata": {},
     "output_type": "display_data"
    },
    {
     "data": {
      "text/plain": [
       "Male                                                         38106\n",
       "Female                                                        9797\n",
       "Unable to Determine                                            326\n",
       "-                                                              235\n",
       "Unknown                                                         37\n",
       "Gender Diverse (gender non-conforming and/or transgender)        7\n",
       "Name: Subject Perceived Gender, dtype: int64"
      ]
     },
     "metadata": {},
     "output_type": "display_data"
    },
    {
     "data": {
      "text/plain": [
       "2015-10-01T00:00:00    101\n",
       "2015-09-29T00:00:00     66\n",
       "2015-05-28T00:00:00     57\n",
       "2015-07-18T00:00:00     55\n",
       "2019-04-26T00:00:00     54\n",
       "                      ... \n",
       "2015-03-15T00:00:00      1\n",
       "2015-05-06T00:00:00      1\n",
       "2015-04-28T00:00:00      1\n",
       "2015-03-28T00:00:00      1\n",
       "2015-03-31T00:00:00      1\n",
       "Name: Reported Date, Length: 2330, dtype: int64"
      ]
     },
     "metadata": {},
     "output_type": "display_data"
    },
    {
     "data": {
      "text/plain": [
       "02:56:00    51\n",
       "17:00:00    51\n",
       "19:18:00    51\n",
       "03:09:00    50\n",
       "03:13:00    50\n",
       "            ..\n",
       "23:41:10     1\n",
       "00:32:25     1\n",
       "04:30:29     1\n",
       "04:54:52     1\n",
       "23:34:21     1\n",
       "Name: Reported Time, Length: 14032, dtype: int64"
      ]
     },
     "metadata": {},
     "output_type": "display_data"
    },
    {
     "data": {
      "text/plain": [
       "-                                                 13234\n",
       "SUSPICIOUS STOP - OFFICER INITIATED ONVIEW         3234\n",
       "SUSPICIOUS PERSON, VEHICLE OR INCIDENT             3097\n",
       "DISTURBANCE, MISCELLANEOUS/OTHER                   2505\n",
       "ASLT - IP/JO - WITH OR W/O WPNS (NO SHOOTINGS)     2108\n",
       "                                                  ...  \n",
       "DEMONSTRATIONS                                        1\n",
       "PROPERTY - FOUND GUN, SHELLCASINGS                    1\n",
       "KNOWN KIDNAPPNG                                       1\n",
       "WARRANT PICKUP - FROM OTHER AGENCY                    1\n",
       "MISSING - ADULT                                       1\n",
       "Name: Initial Call Type, Length: 168, dtype: int64"
      ]
     },
     "metadata": {},
     "output_type": "display_data"
    },
    {
     "data": {
      "text/plain": [
       "-                                                    13234\n",
       "--SUSPICIOUS CIRCUM. - SUSPICIOUS PERSON              3920\n",
       "--PROWLER - TRESPASS                                  3404\n",
       "--DISTURBANCE - OTHER                                 2802\n",
       "--ASSAULTS, OTHER                                     2383\n",
       "                                                     ...  \n",
       "PROWLER                                                  1\n",
       "--CROWD MGMNT (STAND BY ONLY)                            1\n",
       "SHOTS -DELAY/INCLUDES HEARD/NO ASSAULT                   1\n",
       "--COMMERCIAL SEXUAL EXPLOITATION OF MINORS (CSEC)        1\n",
       "NOISE - DIST, GENERAL (CONST, RESID, BALL PLAY)          1\n",
       "Name: Final Call Type, Length: 211, dtype: int64"
      ]
     },
     "metadata": {},
     "output_type": "display_data"
    },
    {
     "data": {
      "text/plain": [
       "911                              22117\n",
       "-                                13234\n",
       "ONVIEW                            9358\n",
       "TELEPHONE OTHER, NOT 911          3428\n",
       "ALARM CALL (NOT POLICE ALARM)      361\n",
       "TEXT MESSAGE                         9\n",
       "SCHEDULED EVENT (RECURRING)          1\n",
       "Name: Call Type, dtype: int64"
      ]
     },
     "metadata": {},
     "output_type": "display_data"
    },
    {
     "data": {
      "text/plain": [
       "TRAINING - FIELD TRAINING SQUAD        5210\n",
       "WEST PCT 1ST W - DAVID/MARY            1582\n",
       "WEST PCT 2ND W - D/M RELIEF            1041\n",
       "SOUTHWEST PCT 2ND W - FRANK            1007\n",
       "WEST PCT 1ST W - KING/QUEEN             899\n",
       "                                       ... \n",
       "VICE - GENERAL INVESTIGATIONS SQUAD       1\n",
       "TRAF - MOTORCYCLE UNIT - T2 SQUAD         1\n",
       "CANINE - DAY SQUAD                        1\n",
       "TRAINING - ADVANCED - SQUAD C             1\n",
       "BURG/THEFT/JUV - NORTH                    1\n",
       "Name: Officer Squad, Length: 173, dtype: int64"
      ]
     },
     "metadata": {},
     "output_type": "display_data"
    },
    {
     "data": {
      "text/plain": [
       "N    44677\n",
       "Y     3831\n",
       "Name: Arrest Flag, dtype: int64"
      ]
     },
     "metadata": {},
     "output_type": "display_data"
    },
    {
     "data": {
      "text/plain": [
       "N    37044\n",
       "Y    10986\n",
       "-      478\n",
       "Name: Frisk Flag, dtype: int64"
      ]
     },
     "metadata": {},
     "output_type": "display_data"
    },
    {
     "data": {
      "text/plain": [
       "West         11906\n",
       "North        10669\n",
       "-             9928\n",
       "East          6387\n",
       "South         5815\n",
       "Southwest     2320\n",
       "SouthWest     1225\n",
       "Unknown        200\n",
       "OOJ             37\n",
       "FK ERROR        21\n",
       "Name: Precinct, dtype: int64"
      ]
     },
     "metadata": {},
     "output_type": "display_data"
    },
    {
     "data": {
      "text/plain": [
       "-         10139\n",
       "E          2337\n",
       "M          2270\n",
       "N          2191\n",
       "K          1886\n",
       "K          1762\n",
       "B          1658\n",
       "L          1639\n",
       "D          1512\n",
       "R          1455\n",
       "F          1378\n",
       "M          1364\n",
       "S          1348\n",
       "U          1302\n",
       "D          1248\n",
       "O          1161\n",
       "J          1119\n",
       "G          1087\n",
       "C          1037\n",
       "E           992\n",
       "Q           967\n",
       "W           941\n",
       "Q           893\n",
       "N           767\n",
       "F           753\n",
       "R           683\n",
       "O           655\n",
       "B           599\n",
       "S           514\n",
       "G           498\n",
       "U           489\n",
       "L           482\n",
       "W           471\n",
       "C           435\n",
       "J           423\n",
       "99           53\n",
       "Name: Sector, dtype: int64"
      ]
     },
     "metadata": {},
     "output_type": "display_data"
    },
    {
     "data": {
      "text/plain": [
       "-         10073\n",
       "N3         1175\n",
       "E2         1092\n",
       "K3         1058\n",
       "M2          852\n",
       "          ...  \n",
       "N1           86\n",
       "99           53\n",
       "99           35\n",
       "OOJ          25\n",
       "S             2\n",
       "Name: Beat, Length: 107, dtype: int64"
      ]
     },
     "metadata": {},
     "output_type": "display_data"
    }
   ],
   "source": [
    "for column in df.columns:\n",
    "    display(df[column].value_counts())"
   ]
  },
  {
   "cell_type": "code",
   "execution_count": 2,
   "id": "baf80847",
   "metadata": {},
   "outputs": [],
   "source": [
    "#First drop columns that are not useful for prediction\n",
    "df.drop(columns=['GO / SC Num', 'Terry Stop ID', 'Officer ID', 'Arrest Flag', 'Frisk Flag', 'Sector', \n",
    "                 'Beat', 'Reported Time', 'Initial Call Type', 'Final Call Type', 'Officer Squad'], inplace=True)"
   ]
  },
  {
   "cell_type": "markdown",
   "id": "2cb5ee80",
   "metadata": {},
   "source": [
    "#### Subject Age Group"
   ]
  },
  {
   "cell_type": "markdown",
   "id": "352d19bc",
   "metadata": {},
   "source": [
    "Subjects are binned into perceived age groups. Because of the small number of null values, I will remove these rows from the dataset."
   ]
  },
  {
   "cell_type": "code",
   "execution_count": 3,
   "id": "cbad8141",
   "metadata": {},
   "outputs": [
    {
     "data": {
      "text/plain": [
       "26 - 35         16165\n",
       "36 - 45         10342\n",
       "18 - 25          9672\n",
       "46 - 55          6275\n",
       "56 and Above     2468\n",
       "1 - 17           1990\n",
       "-                1596\n",
       "Name: Subject Age Group, dtype: int64"
      ]
     },
     "execution_count": 3,
     "metadata": {},
     "output_type": "execute_result"
    }
   ],
   "source": [
    "df['Subject Age Group'].value_counts()"
   ]
  },
  {
   "cell_type": "code",
   "execution_count": 4,
   "id": "ce944b50",
   "metadata": {},
   "outputs": [],
   "source": [
    "df = df[df['Subject Age Group'] != '-']"
   ]
  },
  {
   "cell_type": "markdown",
   "id": "cdba02f5",
   "metadata": {},
   "source": [
    "#### Subject ID"
   ]
  },
  {
   "cell_type": "markdown",
   "id": "2df507c8",
   "metadata": {},
   "source": [
    "This column indicates whether or not the subject presented identification to the officer. If ID was presented, the subject is identified according to their ID number in the police database. If ID is not presented, this value is recorded as -1. For simplicity, I will convert this column to boolean--True (1) indicating that the subject presented identification, and False (0) meaning they did not."
   ]
  },
  {
   "cell_type": "code",
   "execution_count": 5,
   "id": "ce732af2",
   "metadata": {},
   "outputs": [],
   "source": [
    "df.loc[df['Subject ID'] > 0, 'Subject ID'] = 1\n",
    "df.loc[df['Subject ID'] < 0, 'Subject ID'] = 0"
   ]
  },
  {
   "cell_type": "markdown",
   "id": "93a55ec9",
   "metadata": {},
   "source": [
    "#### Stop Resolution"
   ]
  },
  {
   "cell_type": "markdown",
   "id": "172c0a24",
   "metadata": {},
   "source": [
    "'Offense Report' and 'Citation/Infraction' will be condensed into a single category, 'Citation', and 'Referred for Prosecution' will be rolled into the 'Arrest' category. I will also rename 'Field Contact' to 'No Action' to make it more clear what the result of the stop was."
   ]
  },
  {
   "cell_type": "code",
   "execution_count": 6,
   "id": "8e65d010",
   "metadata": {},
   "outputs": [
    {
     "data": {
      "text/plain": [
       "Field Contact               18817\n",
       "Offense Report              15367\n",
       "Arrest                      11834\n",
       "Referred for Prosecution      719\n",
       "Citation / Infraction         175\n",
       "Name: Stop Resolution, dtype: int64"
      ]
     },
     "execution_count": 6,
     "metadata": {},
     "output_type": "execute_result"
    }
   ],
   "source": [
    "df['Stop Resolution'].value_counts()"
   ]
  },
  {
   "cell_type": "code",
   "execution_count": 7,
   "id": "40ef7b60",
   "metadata": {},
   "outputs": [],
   "source": [
    "df['Stop Resolution'].replace('Referred for Prosecution', 'Arrest', inplace=True)\n",
    "df['Stop Resolution'].replace('Citation / Infraction', 'Offense Report', inplace=True)\n",
    "\n",
    "df['Stop Resolution'].replace('Field Contact', 'No Action', inplace=True)\n",
    "df['Stop Resolution'].replace('Offense Report', 'Citation', inplace=True)\n",
    "\n",
    "df.loc[df['Stop Resolution'] == 'No Action', 'Actionable Stop'] = 0\n",
    "df.loc[df['Stop Resolution'] != 'No Action', 'Actionable Stop'] = 1"
   ]
  },
  {
   "cell_type": "code",
   "execution_count": 8,
   "id": "8ba1f5d6",
   "metadata": {},
   "outputs": [
    {
     "data": {
      "text/plain": [
       "1.0    28095\n",
       "0.0    18817\n",
       "Name: Actionable Stop, dtype: int64"
      ]
     },
     "execution_count": 8,
     "metadata": {},
     "output_type": "execute_result"
    }
   ],
   "source": [
    "df['Actionable Stop'].value_counts()"
   ]
  },
  {
   "cell_type": "markdown",
   "id": "4e5d485a",
   "metadata": {},
   "source": [
    "#### Weapon Type"
   ]
  },
  {
   "cell_type": "markdown",
   "id": "fc3f8689",
   "metadata": {},
   "source": [
    "Rather than separate by weapon type, I will create a column to track whether or not a weapon was found during the stop."
   ]
  },
  {
   "cell_type": "code",
   "execution_count": 9,
   "id": "5d8e2bde",
   "metadata": {},
   "outputs": [
    {
     "data": {
      "text/plain": [
       "None                                    31601\n",
       "-                                       12476\n",
       "Lethal Cutting Instrument                1456\n",
       "Knife/Cutting/Stabbing Instrument         694\n",
       "Handgun                                   287\n",
       "Firearm Other                              93\n",
       "Blunt Object/Striking Implement            91\n",
       "Club, Blackjack, Brass Knuckles            48\n",
       "Firearm                                    44\n",
       "Mace/Pepper Spray                          31\n",
       "Other Firearm                              26\n",
       "Firearm (unk type)                         15\n",
       "Taser/Stun Gun                             10\n",
       "None/Not Applicable                         9\n",
       "Club                                        9\n",
       "Fire/Incendiary Device                      7\n",
       "Rifle                                       6\n",
       "Shotgun                                     3\n",
       "Personal Weapons (hands, feet, etc.)        2\n",
       "Automatic Handgun                           2\n",
       "Blackjack                                   1\n",
       "Brass Knuckles                              1\n",
       "Name: Weapon Type, dtype: int64"
      ]
     },
     "execution_count": 9,
     "metadata": {},
     "output_type": "execute_result"
    }
   ],
   "source": [
    "df['Weapon Type'].value_counts()"
   ]
  },
  {
   "cell_type": "code",
   "execution_count": 10,
   "id": "77133575",
   "metadata": {},
   "outputs": [],
   "source": [
    "df.loc[df['Weapon Type'] == 'None', 'Weapon'] = 0\n",
    "df.loc[df['Weapon Type'] != 'None', 'Weapon'] = 1\n",
    "df.loc[df['Weapon Type'] == '-', 'Weapon'] = 0"
   ]
  },
  {
   "cell_type": "code",
   "execution_count": 11,
   "id": "42eba06f",
   "metadata": {},
   "outputs": [],
   "source": [
    "df.drop(columns=['Weapon Type'], inplace=True)"
   ]
  },
  {
   "cell_type": "code",
   "execution_count": 12,
   "id": "d3838f20",
   "metadata": {},
   "outputs": [
    {
     "data": {
      "text/plain": [
       "0.0    44077\n",
       "1.0     2835\n",
       "Name: Weapon, dtype: int64"
      ]
     },
     "execution_count": 12,
     "metadata": {},
     "output_type": "execute_result"
    }
   ],
   "source": [
    "df['Weapon'].value_counts()"
   ]
  },
  {
   "cell_type": "markdown",
   "id": "0e932c96",
   "metadata": {},
   "source": [
    "#### Officer YOB"
   ]
  },
  {
   "cell_type": "markdown",
   "id": "c1c632d4",
   "metadata": {},
   "source": [
    "I chose to bin the data based on generation to simplify categorization."
   ]
  },
  {
   "cell_type": "code",
   "execution_count": 13,
   "id": "116539ed",
   "metadata": {},
   "outputs": [
    {
     "data": {
      "text/plain": [
       "1986    3280\n",
       "1987    2969\n",
       "1984    2703\n",
       "1991    2671\n",
       "1992    2456\n",
       "1985    2445\n",
       "1990    2295\n",
       "1988    2135\n",
       "1989    2026\n",
       "1982    1837\n",
       "1983    1685\n",
       "1979    1498\n",
       "1993    1498\n",
       "1981    1417\n",
       "1995    1272\n",
       "1971    1184\n",
       "1978    1145\n",
       "1976    1007\n",
       "1977     998\n",
       "1994     920\n",
       "1973     906\n",
       "1980     814\n",
       "1996     706\n",
       "1967     705\n",
       "1968     590\n",
       "1970     564\n",
       "1969     549\n",
       "1974     535\n",
       "1975     523\n",
       "1997     472\n",
       "1962     449\n",
       "1964     432\n",
       "1972     414\n",
       "1965     412\n",
       "1963     236\n",
       "1958     215\n",
       "1961     206\n",
       "1966     180\n",
       "1959     167\n",
       "1960     128\n",
       "1998      57\n",
       "1954      44\n",
       "1957      43\n",
       "1953      33\n",
       "1900      31\n",
       "1955      21\n",
       "1956      17\n",
       "1948      10\n",
       "1949       5\n",
       "1952       4\n",
       "1946       2\n",
       "1951       1\n",
       "Name: Officer YOB, dtype: int64"
      ]
     },
     "execution_count": 13,
     "metadata": {},
     "output_type": "execute_result"
    }
   ],
   "source": [
    "df['Officer YOB'].value_counts()"
   ]
  },
  {
   "cell_type": "code",
   "execution_count": 14,
   "id": "fc6491ce",
   "metadata": {},
   "outputs": [],
   "source": [
    "df['Officer Age Group'] = pd.cut(df['Officer YOB'],[1899, 1945, 1964, 1980, 1997, 2000], \n",
    "                                 labels = ['Pre-Boomer','Baby Boomer', 'Gen X', 'Millenial', 'Gen Z'])"
   ]
  },
  {
   "cell_type": "code",
   "execution_count": 15,
   "id": "bfbbbfe1",
   "metadata": {},
   "outputs": [
    {
     "data": {
      "text/plain": [
       "Millenial      32787\n",
       "Gen X          12024\n",
       "Baby Boomer     2013\n",
       "Gen Z             57\n",
       "Pre-Boomer        31\n",
       "Name: Officer Age Group, dtype: int64"
      ]
     },
     "execution_count": 15,
     "metadata": {},
     "output_type": "execute_result"
    }
   ],
   "source": [
    "df['Officer Age Group'].value_counts()"
   ]
  },
  {
   "cell_type": "code",
   "execution_count": 16,
   "id": "21d3588c",
   "metadata": {},
   "outputs": [],
   "source": [
    "df.drop(columns=['Officer YOB'], inplace=True)"
   ]
  },
  {
   "cell_type": "markdown",
   "id": "40420f89",
   "metadata": {},
   "source": [
    "#### Officer Gender"
   ]
  },
  {
   "cell_type": "markdown",
   "id": "f88bc908",
   "metadata": {},
   "source": [
    "Convert to 1/0 binary where 1 = male and 0 = female or not specified."
   ]
  },
  {
   "cell_type": "code",
   "execution_count": 17,
   "id": "a26a65e4",
   "metadata": {},
   "outputs": [],
   "source": [
    "df['Officer Gender'].replace('F', '0', inplace=True)\n",
    "df['Officer Gender'].replace('M', '1', inplace=True)\n",
    "df['Officer Gender'].replace('N', '0', inplace=True)"
   ]
  },
  {
   "cell_type": "code",
   "execution_count": 18,
   "id": "88ca6176",
   "metadata": {},
   "outputs": [
    {
     "data": {
      "text/plain": [
       "1    41503\n",
       "0     5409\n",
       "Name: Officer Gender, dtype: int64"
      ]
     },
     "execution_count": 18,
     "metadata": {},
     "output_type": "execute_result"
    }
   ],
   "source": [
    "df['Officer Gender'].value_counts()"
   ]
  },
  {
   "cell_type": "markdown",
   "id": "ec136597",
   "metadata": {},
   "source": [
    "#### Officer Race, Subject Perceived Race, and Subject Perceived Gender"
   ]
  },
  {
   "cell_type": "markdown",
   "id": "4a95bcc6",
   "metadata": {},
   "source": [
    "Each of these features are using multiple responses to classify unknown or not reported data. For each feature, I have condensed categories to use a single category for unknown values."
   ]
  },
  {
   "cell_type": "code",
   "execution_count": 19,
   "id": "6c6fa321",
   "metadata": {
    "scrolled": true
   },
   "outputs": [
    {
     "data": {
      "text/plain": [
       "White                            35429\n",
       "Two or More Races                 2715\n",
       "Hispanic or Latino                2701\n",
       "Asian                             2020\n",
       "Black or African American         1803\n",
       "Not Specified                     1460\n",
       "Nat Hawaiian/Oth Pac Islander      440\n",
       "American Indian/Alaska Native      313\n",
       "Unknown                             31\n",
       "Name: Officer Race, dtype: int64"
      ]
     },
     "execution_count": 19,
     "metadata": {},
     "output_type": "execute_result"
    }
   ],
   "source": [
    "df['Officer Race'].value_counts()"
   ]
  },
  {
   "cell_type": "code",
   "execution_count": 20,
   "id": "a2345572",
   "metadata": {},
   "outputs": [],
   "source": [
    "df['Officer Race'].replace('Unknown', 'Not Specified', inplace=True)"
   ]
  },
  {
   "cell_type": "code",
   "execution_count": 21,
   "id": "02603157",
   "metadata": {},
   "outputs": [
    {
     "data": {
      "text/plain": [
       "White                                        23273\n",
       "Black or African American                    14062\n",
       "Unknown                                       2506\n",
       "Hispanic                                      1659\n",
       "Asian                                         1558\n",
       "-                                             1471\n",
       "American Indian or Alaska Native              1365\n",
       "Multi-Racial                                   801\n",
       "Other                                          150\n",
       "Native Hawaiian or Other Pacific Islander       67\n",
       "Name: Subject Perceived Race, dtype: int64"
      ]
     },
     "execution_count": 21,
     "metadata": {},
     "output_type": "execute_result"
    }
   ],
   "source": [
    "df['Subject Perceived Race'].value_counts()"
   ]
  },
  {
   "cell_type": "code",
   "execution_count": 22,
   "id": "03a4573e",
   "metadata": {},
   "outputs": [],
   "source": [
    "df['Subject Perceived Race'].replace('-', 'Unknown', inplace=True)"
   ]
  },
  {
   "cell_type": "code",
   "execution_count": 23,
   "id": "9a936aa3",
   "metadata": {},
   "outputs": [
    {
     "data": {
      "text/plain": [
       "Male                                                         37210\n",
       "Female                                                        9553\n",
       "Unable to Determine                                            108\n",
       "Unknown                                                         19\n",
       "-                                                               16\n",
       "Gender Diverse (gender non-conforming and/or transgender)        6\n",
       "Name: Subject Perceived Gender, dtype: int64"
      ]
     },
     "execution_count": 23,
     "metadata": {},
     "output_type": "execute_result"
    }
   ],
   "source": [
    "df['Subject Perceived Gender'].value_counts()"
   ]
  },
  {
   "cell_type": "code",
   "execution_count": 24,
   "id": "68f7bd89",
   "metadata": {},
   "outputs": [],
   "source": [
    "df['Subject Perceived Gender'].replace('-', 'Unknown', inplace=True)"
   ]
  },
  {
   "cell_type": "markdown",
   "id": "f24dcf16",
   "metadata": {},
   "source": [
    "#### Reported Date"
   ]
  },
  {
   "cell_type": "markdown",
   "id": "61e4e696",
   "metadata": {},
   "source": [
    "Using this column I engineer several features -- year, day of the week, and month -- to help track trends over time."
   ]
  },
  {
   "cell_type": "code",
   "execution_count": 25,
   "id": "2a4cd28b",
   "metadata": {},
   "outputs": [],
   "source": [
    "#convert column to datetime to allow date-based calculations\n",
    "df['Reported Date'] = pd.to_datetime(df['Reported Date'])"
   ]
  },
  {
   "cell_type": "code",
   "execution_count": 26,
   "id": "822891cf",
   "metadata": {},
   "outputs": [],
   "source": [
    "#create day of week column and map numeric values to day names\n",
    "day_map={0: 'Monday', 1: 'Tuesday', 2: 'Wednesday', 3: 'Thursday', 4: 'Friday',5: 'Saturday', 6: 'Sunday'} \n",
    "df['Day of Week']=df['Reported Date'].dt.weekday.map(day_map)\n",
    "\n",
    "#create year column\n",
    "df['Year'] = df['Reported Date'].dt.year\n",
    "\n",
    "#create month column and map numeric values to month names\n",
    "month_map = {1: 'January', 2: 'February', 3: 'March', 4: 'April', 5: 'May', 6: 'June', \n",
    "             7: 'July', 8: 'August', 9: 'September', 10: 'October', 11: 'November', 12: 'December'}\n",
    "df['Month'] = df['Reported Date'].dt.month.map(month_map)"
   ]
  },
  {
   "cell_type": "code",
   "execution_count": 27,
   "id": "2cb54531",
   "metadata": {},
   "outputs": [],
   "source": [
    "df.drop(columns='Reported Date', inplace=True)"
   ]
  },
  {
   "cell_type": "markdown",
   "id": "e3d791f6",
   "metadata": {},
   "source": [
    "#### Call Type"
   ]
  },
  {
   "cell_type": "code",
   "execution_count": 28,
   "id": "6af30672",
   "metadata": {},
   "outputs": [
    {
     "data": {
      "text/plain": [
       "911                              21400\n",
       "-                                12773\n",
       "ONVIEW                            9072\n",
       "TELEPHONE OTHER, NOT 911          3311\n",
       "ALARM CALL (NOT POLICE ALARM)      346\n",
       "TEXT MESSAGE                         9\n",
       "SCHEDULED EVENT (RECURRING)          1\n",
       "Name: Call Type, dtype: int64"
      ]
     },
     "execution_count": 28,
     "metadata": {},
     "output_type": "execute_result"
    }
   ],
   "source": [
    "df['Call Type'].value_counts()"
   ]
  },
  {
   "cell_type": "code",
   "execution_count": 29,
   "id": "26845f0d",
   "metadata": {},
   "outputs": [],
   "source": [
    "df['Call Type'].replace('-', 'No Call', inplace=True)\n",
    "df['Call Type'].replace('ALARM CALL (NOT POLICE ALARM)', 'Other Call (Not 911)', inplace=True)\n",
    "df['Call Type'].replace('TEXT MESSAGE', 'Other Call (Not 911)', inplace=True)\n",
    "df['Call Type'].replace('SCHEDULED EVENT (RECURRING)', 'Other Call (Not 911)', inplace=True)\n",
    "df['Call Type'].replace('TELEPHONE OTHER, NOT 911', 'Other Call (Not 911)', inplace=True)"
   ]
  },
  {
   "cell_type": "markdown",
   "id": "0d519c35",
   "metadata": {},
   "source": [
    "#### Precinct"
   ]
  },
  {
   "cell_type": "code",
   "execution_count": 30,
   "id": "41360c6c",
   "metadata": {},
   "outputs": [
    {
     "data": {
      "text/plain": [
       "West         11578\n",
       "North        10341\n",
       "-             9544\n",
       "East          6194\n",
       "South         5601\n",
       "Southwest     2244\n",
       "SouthWest     1171\n",
       "Unknown        183\n",
       "OOJ             35\n",
       "FK ERROR        21\n",
       "Name: Precinct, dtype: int64"
      ]
     },
     "execution_count": 30,
     "metadata": {},
     "output_type": "execute_result"
    }
   ],
   "source": [
    "df['Precinct'].value_counts()"
   ]
  },
  {
   "cell_type": "code",
   "execution_count": 31,
   "id": "97b2f4f7",
   "metadata": {},
   "outputs": [],
   "source": [
    "df['Precinct'].replace('-', 'Unknown', inplace=True)\n",
    "df['Precinct'].replace('SouthWest', 'Southwest', inplace=True)"
   ]
  },
  {
   "cell_type": "code",
   "execution_count": 32,
   "id": "ed8bb27c",
   "metadata": {},
   "outputs": [],
   "source": [
    "df = df[df['Precinct'] != 'OOJ']"
   ]
  },
  {
   "cell_type": "code",
   "execution_count": 33,
   "id": "43a4bd1d",
   "metadata": {},
   "outputs": [],
   "source": [
    "df = df[df['Precinct'] != 'FK ERROR']"
   ]
  },
  {
   "cell_type": "markdown",
   "id": "2e26cdec",
   "metadata": {},
   "source": [
    "#### Review Updated Data"
   ]
  },
  {
   "cell_type": "markdown",
   "id": "74a6d2a3",
   "metadata": {},
   "source": [
    "At this point, I believe the data is clean enough to begin the base model."
   ]
  },
  {
   "cell_type": "code",
   "execution_count": 34,
   "id": "e5251a42",
   "metadata": {},
   "outputs": [
    {
     "data": {
      "text/html": [
       "<div>\n",
       "<style scoped>\n",
       "    .dataframe tbody tr th:only-of-type {\n",
       "        vertical-align: middle;\n",
       "    }\n",
       "\n",
       "    .dataframe tbody tr th {\n",
       "        vertical-align: top;\n",
       "    }\n",
       "\n",
       "    .dataframe thead th {\n",
       "        text-align: right;\n",
       "    }\n",
       "</style>\n",
       "<table border=\"1\" class=\"dataframe\">\n",
       "  <thead>\n",
       "    <tr style=\"text-align: right;\">\n",
       "      <th></th>\n",
       "      <th>Subject Age Group</th>\n",
       "      <th>Subject ID</th>\n",
       "      <th>Stop Resolution</th>\n",
       "      <th>Officer Gender</th>\n",
       "      <th>Officer Race</th>\n",
       "      <th>Subject Perceived Race</th>\n",
       "      <th>Subject Perceived Gender</th>\n",
       "      <th>Call Type</th>\n",
       "      <th>Precinct</th>\n",
       "      <th>Actionable Stop</th>\n",
       "      <th>Weapon</th>\n",
       "      <th>Officer Age Group</th>\n",
       "      <th>Day of Week</th>\n",
       "      <th>Year</th>\n",
       "      <th>Month</th>\n",
       "    </tr>\n",
       "  </thead>\n",
       "  <tbody>\n",
       "    <tr>\n",
       "      <th>0</th>\n",
       "      <td>26 - 35</td>\n",
       "      <td>0</td>\n",
       "      <td>No Action</td>\n",
       "      <td>1</td>\n",
       "      <td>White</td>\n",
       "      <td>Asian</td>\n",
       "      <td>Male</td>\n",
       "      <td>No Call</td>\n",
       "      <td>Unknown</td>\n",
       "      <td>0.0</td>\n",
       "      <td>0.0</td>\n",
       "      <td>Gen X</td>\n",
       "      <td>Friday</td>\n",
       "      <td>2015</td>\n",
       "      <td>April</td>\n",
       "    </tr>\n",
       "    <tr>\n",
       "      <th>1218</th>\n",
       "      <td>1 - 17</td>\n",
       "      <td>0</td>\n",
       "      <td>No Action</td>\n",
       "      <td>1</td>\n",
       "      <td>White</td>\n",
       "      <td>White</td>\n",
       "      <td>Female</td>\n",
       "      <td>No Call</td>\n",
       "      <td>Unknown</td>\n",
       "      <td>0.0</td>\n",
       "      <td>0.0</td>\n",
       "      <td>Millenial</td>\n",
       "      <td>Sunday</td>\n",
       "      <td>2015</td>\n",
       "      <td>May</td>\n",
       "    </tr>\n",
       "    <tr>\n",
       "      <th>1598</th>\n",
       "      <td>1 - 17</td>\n",
       "      <td>0</td>\n",
       "      <td>Arrest</td>\n",
       "      <td>1</td>\n",
       "      <td>White</td>\n",
       "      <td>American Indian or Alaska Native</td>\n",
       "      <td>Male</td>\n",
       "      <td>No Call</td>\n",
       "      <td>East</td>\n",
       "      <td>1.0</td>\n",
       "      <td>0.0</td>\n",
       "      <td>Millenial</td>\n",
       "      <td>Sunday</td>\n",
       "      <td>2015</td>\n",
       "      <td>September</td>\n",
       "    </tr>\n",
       "    <tr>\n",
       "      <th>1599</th>\n",
       "      <td>1 - 17</td>\n",
       "      <td>0</td>\n",
       "      <td>No Action</td>\n",
       "      <td>0</td>\n",
       "      <td>Not Specified</td>\n",
       "      <td>Unknown</td>\n",
       "      <td>Male</td>\n",
       "      <td>No Call</td>\n",
       "      <td>Unknown</td>\n",
       "      <td>0.0</td>\n",
       "      <td>0.0</td>\n",
       "      <td>Millenial</td>\n",
       "      <td>Sunday</td>\n",
       "      <td>2015</td>\n",
       "      <td>April</td>\n",
       "    </tr>\n",
       "    <tr>\n",
       "      <th>1600</th>\n",
       "      <td>1 - 17</td>\n",
       "      <td>0</td>\n",
       "      <td>No Action</td>\n",
       "      <td>1</td>\n",
       "      <td>White</td>\n",
       "      <td>Black or African American</td>\n",
       "      <td>Male</td>\n",
       "      <td>No Call</td>\n",
       "      <td>Unknown</td>\n",
       "      <td>0.0</td>\n",
       "      <td>0.0</td>\n",
       "      <td>Gen X</td>\n",
       "      <td>Sunday</td>\n",
       "      <td>2015</td>\n",
       "      <td>April</td>\n",
       "    </tr>\n",
       "  </tbody>\n",
       "</table>\n",
       "</div>"
      ],
      "text/plain": [
       "     Subject Age Group  Subject ID Stop Resolution Officer Gender  \\\n",
       "0              26 - 35           0       No Action              1   \n",
       "1218            1 - 17           0       No Action              1   \n",
       "1598            1 - 17           0          Arrest              1   \n",
       "1599            1 - 17           0       No Action              0   \n",
       "1600            1 - 17           0       No Action              1   \n",
       "\n",
       "       Officer Race            Subject Perceived Race  \\\n",
       "0             White                             Asian   \n",
       "1218          White                             White   \n",
       "1598          White  American Indian or Alaska Native   \n",
       "1599  Not Specified                           Unknown   \n",
       "1600          White         Black or African American   \n",
       "\n",
       "     Subject Perceived Gender Call Type Precinct  Actionable Stop  Weapon  \\\n",
       "0                        Male   No Call  Unknown              0.0     0.0   \n",
       "1218                   Female   No Call  Unknown              0.0     0.0   \n",
       "1598                     Male   No Call     East              1.0     0.0   \n",
       "1599                     Male   No Call  Unknown              0.0     0.0   \n",
       "1600                     Male   No Call  Unknown              0.0     0.0   \n",
       "\n",
       "     Officer Age Group Day of Week  Year      Month  \n",
       "0                Gen X      Friday  2015      April  \n",
       "1218         Millenial      Sunday  2015        May  \n",
       "1598         Millenial      Sunday  2015  September  \n",
       "1599         Millenial      Sunday  2015      April  \n",
       "1600             Gen X      Sunday  2015      April  "
      ]
     },
     "execution_count": 34,
     "metadata": {},
     "output_type": "execute_result"
    }
   ],
   "source": [
    "df.head()"
   ]
  },
  {
   "cell_type": "code",
   "execution_count": 35,
   "id": "3ee00eea",
   "metadata": {},
   "outputs": [
    {
     "name": "stdout",
     "output_type": "stream",
     "text": [
      "<class 'pandas.core.frame.DataFrame'>\n",
      "Int64Index: 46856 entries, 0 to 48507\n",
      "Data columns (total 15 columns):\n",
      " #   Column                    Non-Null Count  Dtype   \n",
      "---  ------                    --------------  -----   \n",
      " 0   Subject Age Group         46856 non-null  object  \n",
      " 1   Subject ID                46856 non-null  int64   \n",
      " 2   Stop Resolution           46856 non-null  object  \n",
      " 3   Officer Gender            46856 non-null  object  \n",
      " 4   Officer Race              46856 non-null  object  \n",
      " 5   Subject Perceived Race    46856 non-null  object  \n",
      " 6   Subject Perceived Gender  46856 non-null  object  \n",
      " 7   Call Type                 46856 non-null  object  \n",
      " 8   Precinct                  46856 non-null  object  \n",
      " 9   Actionable Stop           46856 non-null  float64 \n",
      " 10  Weapon                    46856 non-null  float64 \n",
      " 11  Officer Age Group         46856 non-null  category\n",
      " 12  Day of Week               46856 non-null  object  \n",
      " 13  Year                      46856 non-null  int64   \n",
      " 14  Month                     46856 non-null  object  \n",
      "dtypes: category(1), float64(2), int64(2), object(10)\n",
      "memory usage: 5.4+ MB\n"
     ]
    }
   ],
   "source": [
    "df.info()"
   ]
  },
  {
   "cell_type": "code",
   "execution_count": 36,
   "id": "58c16e82",
   "metadata": {},
   "outputs": [],
   "source": [
    "#save updated data to csv file\n",
    "df.to_csv('Cleaned Data.csv')"
   ]
  }
 ],
 "metadata": {
  "kernelspec": {
   "display_name": "Python 3",
   "language": "python",
   "name": "python3"
  },
  "language_info": {
   "codemirror_mode": {
    "name": "ipython",
    "version": 3
   },
   "file_extension": ".py",
   "mimetype": "text/x-python",
   "name": "python",
   "nbconvert_exporter": "python",
   "pygments_lexer": "ipython3",
   "version": "3.8.5"
  }
 },
 "nbformat": 4,
 "nbformat_minor": 5
}
